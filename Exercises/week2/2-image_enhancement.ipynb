{
 "cells": [
  {
   "cell_type": "markdown",
   "metadata": {},
   "source": [
    "# Lab 2: Image Enhancement"
   ]
  },
  {
   "cell_type": "code",
   "execution_count": 1,
   "metadata": {},
   "outputs": [],
   "source": [
    "import cv2\n",
    "import os, numpy as np\n",
    "from matplotlib import pyplot as plt\n",
    "\n",
    "# Path to directory with images\n",
    "dataDir = '../Images_03a'"
   ]
  },
  {
   "cell_type": "code",
   "execution_count": 9,
   "metadata": {},
   "outputs": [],
   "source": [
    "# Open noisy image\n",
    "img = cv2.imread(os.path.join(dataDir, 'coins_03_noisy.jpg'))\n",
    "\n",
    "# Show image\n",
    "cv2.imshow('image', img)\n",
    "cv2.waitKey(0)\n",
    "cv2.destroyWindow('image')"
   ]
  },
  {
   "cell_type": "markdown",
   "metadata": {},
   "source": [
    "### 1. Filtering and Smoothing"
   ]
  },
  {
   "cell_type": "markdown",
   "metadata": {},
   "source": [
    "[Check tutorial here!](https://docs.opencv.org/4.x/dc/dd3/tutorial_gausian_median_blur_bilateral_filter.html)"
   ]
  },
  {
   "cell_type": "code",
   "execution_count": 10,
   "metadata": {},
   "outputs": [],
   "source": [
    "# Apply mean filter to the image\n",
    "img_mean_filter = cv2.blur(img, (4,4))\n",
    "\n",
    "# Show image\n",
    "cv2.imshow('image', img_mean_filter)\n",
    "cv2.waitKey(0)\n",
    "cv2.destroyWindow('image')"
   ]
  },
  {
   "cell_type": "code",
   "execution_count": 11,
   "metadata": {},
   "outputs": [],
   "source": [
    "# Apply a Gaussian filter to the image\n",
    "img_gaussian_filter = cv2.GaussianBlur(img, (5,5), 0)\n",
    "\n",
    "# Show image\n",
    "cv2.imshow('image', img_gaussian_filter)\n",
    "cv2.waitKey(0)\n",
    "cv2.destroyWindow('image')"
   ]
  },
  {
   "cell_type": "markdown",
   "metadata": {},
   "source": [
    "Exercise 1.1: Apply median and bilateral filters to the image"
   ]
  },
  {
   "cell_type": "code",
   "execution_count": 12,
   "metadata": {},
   "outputs": [],
   "source": [
    "# TODO\n",
    "\n",
    "img_median_filter = cv2.medianBlur(img, 5)\n",
    "\n",
    "cv2.imshow('image', img_median_filter)\n",
    "cv2.waitKey(0)\n",
    "cv2.destroyWindow('image')"
   ]
  },
  {
   "cell_type": "markdown",
   "metadata": {},
   "source": [
    "Exercise 1.2: Add salt and pepper noise to a grayscale image and check the result of previous filters"
   ]
  },
  {
   "cell_type": "code",
   "execution_count": 13,
   "metadata": {},
   "outputs": [],
   "source": [
    "# TODO\n",
    "img = cv2.imread(os.path.join(dataDir, 'apple.jpg'))\n",
    "gray_scale = cv2.cvtColor(img, cv2.COLOR_BGR2GRAY)\n",
    "\n",
    "n_pixels = gray_scale.shape[0] * gray_scale.shape[1]\n",
    "\n",
    "\n",
    "n_salt_pepper = int(n_pixels * 0.05)\n",
    "salt_pepper = np.random.randint(0, n_pixels, n_salt_pepper)\n",
    "\n",
    "for i in salt_pepper:\n",
    "    gray_scale[i//gray_scale.shape[1], i%gray_scale.shape[1]] = np.random.choice([0, 255])\n",
    "\n",
    "\n",
    "cv2.imshow('image', gray_scale)\n",
    "cv2.waitKey(0)\n",
    "cv2.destroyWindow('image')"
   ]
  },
  {
   "cell_type": "markdown",
   "metadata": {},
   "source": [
    "Exercise 1.3: Reproduce gaussian blur with custom convolution (using [ndimage.convolve()](https://docs.scipy.org/doc/scipy/reference/generated/scipy.ndimage.convolve.html))"
   ]
  },
  {
   "cell_type": "code",
   "execution_count": 21,
   "metadata": {},
   "outputs": [],
   "source": [
    "from scipy import ndimage\n",
    "\n",
    "img = cv2.imread(os.path.join(dataDir, 'coins_03_noisy.jpg'))\n",
    "gray_scale = cv2.cvtColor(img, cv2.COLOR_BGR2GRAY)\n",
    "\n",
    "kernel = np.array([ [1, 2, 1],\n",
    "                    [2, 4, 2],\n",
    "                    [1, 2, 1]])\n",
    "\n",
    "#normalize\n",
    "kernel = kernel / np.sum(kernel)\n",
    "\n",
    "img_gaussian_filter_nd = ndimage.convolve(gray_scale, kernel)\n",
    "\n",
    "img_gaussian_filter = cv2.GaussianBlur(gray_scale, (3,3), 0)\n",
    "\n",
    "cv2.imshow('image_nd', img_gaussian_filter_nd)\n",
    "cv2.imshow('image_cv', img_gaussian_filter)\n",
    "cv2.waitKey(0)\n",
    "cv2.destroyAllWindows()\n"
   ]
  },
  {
   "cell_type": "markdown",
   "metadata": {},
   "source": [
    "Exercise 1.4: Define custom convolution (using [ndimage.convolve()](https://docs.scipy.org/doc/scipy/reference/generated/scipy.ndimage.convolve.html))"
   ]
  },
  {
   "cell_type": "code",
   "execution_count": 33,
   "metadata": {},
   "outputs": [],
   "source": [
    "from scipy import ndimage\n",
    "\n",
    "img = cv2.imread(os.path.join(dataDir, 'apple.jpg'))\n",
    "gray_scale = cv2.cvtColor(img, cv2.COLOR_BGR2GRAY)\n",
    "\n",
    "kernel = np.array([ [0, -1, 0],\n",
    "                    [-1, 5, -1],\n",
    "                    [0, -1, 0]])\n",
    "\n",
    "#normalize\n",
    "#kernel = kernel / np.sum(kernel)\n",
    "\n",
    "img_gaussian_filter = ndimage.convolve(gray_scale, kernel)\n",
    "\n",
    "cv2.imshow('image', img_gaussian_filter)\n",
    "cv2.waitKey(0)\n",
    "cv2.destroyAllWindows()"
   ]
  },
  {
   "cell_type": "markdown",
   "metadata": {},
   "source": [
    "Exercise 1.5: Add salt and pepper noise to a colored image and apply the previous filters "
   ]
  },
  {
   "cell_type": "code",
   "execution_count": 41,
   "metadata": {},
   "outputs": [],
   "source": [
    "img = cv2.imread(os.path.join(dataDir, 'apple.jpg'))\n",
    "\n",
    "n_pixels = img.shape[0] * img.shape[1]\n",
    "\n",
    "\n",
    "n_salt_pepper = int(n_pixels * 0.05)\n",
    "salt_pepper = np.random.randint(0, n_pixels, n_salt_pepper)\n",
    "\n",
    "\n",
    "for i in salt_pepper:\n",
    "    choice = np.random.choice([0, 255])\n",
    "    img[i//img.shape[1], i%img.shape[1]] = [choice, choice, choice]\n",
    "\n",
    "\n",
    "cv2.imshow('image', img)\n",
    "cv2.waitKey(0)\n",
    "cv2.destroyWindow('image')"
   ]
  },
  {
   "cell_type": "markdown",
   "metadata": {},
   "source": [
    "Exercise 1.6: Apply custom filter to colored image with noise"
   ]
  },
  {
   "cell_type": "code",
   "execution_count": 57,
   "metadata": {},
   "outputs": [],
   "source": [
    "from scipy import ndimage\n",
    "\n",
    "img = cv2.imread(os.path.join(dataDir, 'apple.jpg'))\n",
    "\n",
    "b, g, r = cv2.split(img)\n",
    "\n",
    "kernel = np.array([ [1, 2, 1],\n",
    "                    [2, 4, 2],\n",
    "                    [1, 2, 1]])\n",
    "\n",
    "#normalize\n",
    "kernel = kernel / np.sum(kernel)\n",
    "\n",
    "img_gaussian_filter = cv2.merge([ndimage.convolve(b, kernel), ndimage.convolve(g, kernel), ndimage.convolve(r, kernel)])\n",
    "\n",
    "cv2.imshow('image', img_gaussian_filter)\n",
    "cv2.waitKey(0)\n",
    "cv2.destroyAllWindows()"
   ]
  },
  {
   "cell_type": "markdown",
   "metadata": {},
   "source": [
    "### 2. Histogram Equalization"
   ]
  },
  {
   "cell_type": "code",
   "execution_count": 44,
   "metadata": {},
   "outputs": [],
   "source": [
    "# Load low contrast image\n",
    "img = cv2.imread(os.path.join(dataDir, 'face_lowContrast_01.jpg'), 0) # Change this, according to your image's path\n",
    "\n",
    "cv2.imshow('image', img)\n",
    "cv2.waitKey(0)\n",
    "cv2.destroyAllWindows()"
   ]
  },
  {
   "cell_type": "markdown",
   "metadata": {},
   "source": [
    "[Histograms Equalization](https://docs.opencv.org/master/d6/dc7/group__imgproc__hist.html#ga7e54091f0c937d49bf84152a16f76d6e)"
   ]
  },
  {
   "cell_type": "code",
   "execution_count": 45,
   "metadata": {},
   "outputs": [],
   "source": [
    "# Increasing contrast with Histograms Equalization\n",
    "img_with_he = cv2.equalizeHist(img)\n",
    "\n",
    "cv2.imshow('histogram_equalization', img_with_he)\n",
    "cv2.waitKey(0)\n",
    "cv2.destroyAllWindows()"
   ]
  },
  {
   "cell_type": "markdown",
   "metadata": {},
   "source": [
    "[Contrast Limited Adaptive Histogram Equalization](https://docs.opencv.org/master/d6/dc7/group__imgproc__hist.html#gad689d2607b7b3889453804f414ab1018)"
   ]
  },
  {
   "cell_type": "code",
   "execution_count": 46,
   "metadata": {},
   "outputs": [],
   "source": [
    "# Increasing contrast with CLAHE\n",
    "clahe = cv2.createCLAHE(clipLimit=2.0, tileGridSize=(8,8))\n",
    "img_with_CLAHE = clahe.apply(img)\n",
    "\n",
    "cv2.imshow('clahe', img_with_CLAHE)\n",
    "cv2.waitKey(0)\n",
    "cv2.destroyAllWindows()"
   ]
  },
  {
   "cell_type": "markdown",
   "metadata": {},
   "source": [
    "Exercise 2.1: Apply Histogram Equalization to a colored image"
   ]
  },
  {
   "cell_type": "code",
   "execution_count": 6,
   "metadata": {},
   "outputs": [],
   "source": [
    "img = cv2.imread(os.path.join(dataDir, 'lowContrast_05.jpg')) # Change this, according to your image's path\n",
    "\n",
    "b, g, r = cv2.split(img)\n",
    "\n",
    "img_with_he = cv2.merge([cv2.equalizeHist(b), cv2.equalizeHist(g), cv2.equalizeHist(r)])\n",
    "\n",
    "img_hsv = cv2.cvtColor(img, cv2.COLOR_BGR2HSV)\n",
    "img_hsv[:,:,2] = cv2.equalizeHist(img_hsv[:,:,2])\n",
    "img_hsv = cv2.cvtColor(img_hsv, cv2.COLOR_HSV2BGR)\n",
    "cv2.imshow('normal', img)\n",
    "cv2.imshow('image', img_with_he)\n",
    "cv2.imshow('image_hsv', img_hsv)\n",
    "cv2.waitKey(0)\n",
    "cv2.destroyAllWindows()"
   ]
  },
  {
   "cell_type": "markdown",
   "metadata": {},
   "source": [
    "Exercise 2.2: Apply CLAHE to a colored image"
   ]
  },
  {
   "cell_type": "code",
   "execution_count": 7,
   "metadata": {},
   "outputs": [],
   "source": [
    "img = cv2.imread(os.path.join(dataDir, 'lowContrast_05.jpg')) # Change this, according to your image's path\n",
    "\n",
    "b, g, r = cv2.split(img)\n",
    "\n",
    "\n",
    "# Increasing contrast with CLAHE\n",
    "clahe = cv2.createCLAHE(clipLimit=2.0, tileGridSize=(8,8))\n",
    "img_with_CLAHE = cv2.merge([clahe.apply(b), clahe.apply(g), clahe.apply(r)])\n",
    "\n",
    "img_hsv = cv2.cvtColor(img, cv2.COLOR_BGR2HSV)\n",
    "h, s, v = cv2.split(img_hsv)\n",
    "img_with_CLAHE_HSV = cv2.merge([h, s, clahe.apply(v)])\n",
    "img_with_CLAHE_HSV = cv2.cvtColor(img_with_CLAHE_HSV, cv2.COLOR_HSV2BGR)\n",
    "\n",
    "cv2.imshow('normal', img)\n",
    "cv2.imshow('clahe', img_with_CLAHE)\n",
    "cv2.imshow('clahe_hsv', img_with_CLAHE_HSV)\n",
    "cv2.waitKey(0)\n",
    "cv2.destroyAllWindows()"
   ]
  }
 ],
 "metadata": {
  "kernelspec": {
   "display_name": "Python 3",
   "language": "python",
   "name": "python3"
  },
  "language_info": {
   "codemirror_mode": {
    "name": "ipython",
    "version": 3
   },
   "file_extension": ".py",
   "mimetype": "text/x-python",
   "name": "python",
   "nbconvert_exporter": "python",
   "pygments_lexer": "ipython3",
   "version": "3.11.2"
  },
  "orig_nbformat": 2
 },
 "nbformat": 4,
 "nbformat_minor": 2
}
