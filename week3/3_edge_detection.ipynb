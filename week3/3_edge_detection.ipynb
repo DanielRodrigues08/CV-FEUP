{
 "cells": [
  {
   "cell_type": "markdown",
   "metadata": {},
   "source": [
    "# Edge and line detection"
   ]
  },
  {
   "cell_type": "code",
   "execution_count": 2,
   "metadata": {
    "ExecuteTime": {
     "end_time": "2024-03-01T11:26:01.700632318Z",
     "start_time": "2024-03-01T11:26:01.436036603Z"
    }
   },
   "outputs": [],
   "source": [
    "import cv2\n",
    "import numpy as np\n",
    "import os\n",
    "import math\n",
    "from matplotlib import pyplot as plt\n",
    "\n",
    "dataDir = '../Images_03a'  # Change this, according to your images' directory path"
   ]
  },
  {
   "cell_type": "code",
   "execution_count": 3,
   "metadata": {
    "ExecuteTime": {
     "end_time": "2024-03-01T11:26:05.372960358Z",
     "start_time": "2024-03-01T11:26:03.670485035Z"
    }
   },
   "outputs": [
    {
     "name": "stderr",
     "output_type": "stream",
     "text": [
      "Warning: Ignoring XDG_SESSION_TYPE=wayland on Gnome. Use QT_QPA_PLATFORM=wayland to run on Wayland anyway.\n"
     ]
    }
   ],
   "source": [
    "# Open image\n",
    "img = cv2.imread(os.path.join(dataDir, 'corridor_01.jpg'))  # Change this, according to your image's path\n",
    "\n",
    "# Convert to grayscale\n",
    "img = cv2.cvtColor(img, cv2.COLOR_BGR2GRAY)\n",
    "\n",
    "cv2.imshow(\"Image\", img)\n",
    "cv2.waitKey(0)\n",
    "cv2.destroyAllWindows()"
   ]
  },
  {
   "cell_type": "markdown",
   "metadata": {},
   "source": [
    "## 1. Sobel Filter"
   ]
  },
  {
   "cell_type": "markdown",
   "metadata": {},
   "source": [
    "Detecting edges using the [Sobel Filter](https://docs.opencv.org/master/d4/d86/group__imgproc__filter.html#gacea54f142e81b6758cb6f375ce782c8d)"
   ]
  },
  {
   "cell_type": "code",
   "execution_count": 3,
   "metadata": {
    "ExecuteTime": {
     "end_time": "2024-03-01T11:08:14.516887386Z",
     "start_time": "2024-03-01T11:08:06.152043743Z"
    }
   },
   "outputs": [],
   "source": [
    "# Calculate the first derivatives of the image in x and y\n",
    "sobel_x = cv2.Sobel(img, cv2.CV_64F, 1, 0, ksize=5)\n",
    "sobel_y = cv2.Sobel(img, cv2.CV_64F, 0, 1, ksize=5)\n",
    "\n",
    "# Show the images\n",
    "cv2.imshow(\"Sobel X\", sobel_x)\n",
    "cv2.imshow(\"Sobel Y\", sobel_y)\n",
    "cv2.waitKey(0)\n",
    "cv2.destroyAllWindows()"
   ]
  },
  {
   "cell_type": "markdown",
   "metadata": {},
   "source": [
    "Exercise 1.1: Calculate the gradient by combining the X and Y axes and show the gradient image"
   ]
  },
  {
   "cell_type": "code",
   "execution_count": 4,
   "metadata": {
    "ExecuteTime": {
     "end_time": "2024-03-01T11:10:24.789850830Z",
     "start_time": "2024-03-01T11:10:16.422444745Z"
    }
   },
   "outputs": [],
   "source": [
    "# Calculate the first derivatives of the image in x and y\n",
    "sobel_x_y = cv2.Sobel(img, cv2.CV_64F, 1, 1, ksize=5)\n",
    "\n",
    "# Show the images\n",
    "cv2.imshow(\"Sobel X+Y\", sobel_x_y)\n",
    "cv2.waitKey(0)\n",
    "cv2.destroyAllWindows()"
   ]
  },
  {
   "cell_type": "markdown",
   "metadata": {},
   "source": [
    "Exercise 1.2: Threshold the gradient image using a [trackbar](https://docs.opencv.org/4.x/da/d6a/tutorial_trackbar.html)"
   ]
  },
  {
   "cell_type": "code",
   "execution_count": 6,
   "metadata": {
    "ExecuteTime": {
     "end_time": "2024-03-01T11:18:11.536522251Z",
     "start_time": "2024-03-01T11:17:42.084886599Z"
    }
   },
   "outputs": [],
   "source": [
    "def on_trackbar(val):\n",
    "    _, img = cv2.threshold(sobel_x_y, val, 255, cv2.THRESH_BINARY)\n",
    "    cv2.imshow(title_window, img)\n",
    "\n",
    "\n",
    "# Calculate the first derivatives of the image in x and y\n",
    "sobel_x_y = cv2.Sobel(img, cv2.CV_64F, 1, 1, ksize=5)\n",
    "title_window = \"Sobel X+Y\"\n",
    "# Show the images\n",
    "cv2.imshow(title_window, sobel_x_y)\n",
    "\n",
    "alpha_slider_max = 255\n",
    "trackbar_name = 'Threshold x %d' % alpha_slider_max\n",
    "cv2.createTrackbar(trackbar_name, title_window, 0, alpha_slider_max, on_trackbar)\n",
    "\n",
    "cv2.waitKey(0)\n",
    "cv2.destroyAllWindows()"
   ]
  },
  {
   "cell_type": "markdown",
   "metadata": {},
   "source": [
    " Exercise 1.3: Test the effect of applying Gaussian blur filters of different sizes before applying Sobel filter"
   ]
  },
  {
   "cell_type": "code",
   "execution_count": 4,
   "metadata": {
    "ExecuteTime": {
     "end_time": "2024-03-01T11:26:28.923731868Z",
     "start_time": "2024-03-01T11:26:08.143779134Z"
    }
   },
   "outputs": [],
   "source": [
    "blurs = [cv2.GaussianBlur(img, (5, 5), 0), cv2.GaussianBlur(img, (11, 11), 0), cv2.GaussianBlur(img, (21, 21), 0)]\n",
    "imgs = map(lambda x: cv2.Sobel(x, cv2.CV_64F, 1, 1, ksize=5), blurs)\n",
    "\n",
    "c = 0\n",
    "for img_ in imgs:\n",
    "    c += 1\n",
    "    cv2.imshow(str(c), img_)\n",
    "\n",
    "cv2.waitKey(0)\n",
    "cv2.destroyAllWindows()"
   ]
  },
  {
   "cell_type": "markdown",
   "metadata": {},
   "source": [
    "Exercise 1.4: Experiment with different kernel sizes in the sobel filter"
   ]
  },
  {
   "cell_type": "code",
   "execution_count": 24,
   "metadata": {},
   "outputs": [],
   "source": [
    "# TODO"
   ]
  },
  {
   "cell_type": "markdown",
   "metadata": {},
   "source": [
    "## 2. Laplacian of Gaussians (LoG) and Difference of Gaussians (DoG)\n",
    "\n",
    "Edge detection using Laplacian of Gaussians"
   ]
  },
  {
   "cell_type": "code",
   "execution_count": 5,
   "metadata": {
    "ExecuteTime": {
     "end_time": "2024-03-01T11:27:21.841879221Z",
     "start_time": "2024-03-01T11:26:51.620364289Z"
    }
   },
   "outputs": [],
   "source": [
    "# Open image\n",
    "img = cv2.imread(os.path.join(dataDir, 'corridor_01.jpg'))  # Change this, according to your image's path\n",
    "\n",
    "# Convert to grayscale\n",
    "img = cv2.cvtColor(img, cv2.COLOR_BGR2GRAY)\n",
    "\n",
    "# Apply Laplacian\n",
    "laplacian = cv2.Laplacian(img, cv2.CV_64F, ksize=3)\n",
    "\n",
    "cv2.imshow(\"LoG\", laplacian)\n",
    "cv2.waitKey(0)\n",
    "cv2.destroyAllWindows()"
   ]
  },
  {
   "cell_type": "markdown",
   "metadata": {},
   "source": [
    "Exercise 2.1: Verify the effects of using Gaussian Blur before applying the laplacian filter"
   ]
  },
  {
   "cell_type": "code",
   "execution_count": 6,
   "metadata": {
    "ExecuteTime": {
     "end_time": "2024-03-01T11:31:59.101972090Z",
     "start_time": "2024-03-01T11:28:59.973352166Z"
    }
   },
   "outputs": [],
   "source": [
    "cv2.imshow(\"LoG\", laplacian)\n",
    "\n",
    "blured = cv2.GaussianBlur(img, (5, 5), 0)\n",
    "laplacian_blured = cv2.Laplacian(blured, cv2.CV_64F, ksize=3)\n",
    "\n",
    "cv2.imshow(\"LoG with blur\", laplacian_blured)\n",
    "cv2.waitKey(0)\n",
    "cv2.destroyAllWindows()"
   ]
  },
  {
   "cell_type": "markdown",
   "metadata": {},
   "source": [
    "Exercise 2.2: Implement edge detection through Difference of Gaussians"
   ]
  },
  {
   "cell_type": "code",
   "execution_count": 7,
   "metadata": {
    "ExecuteTime": {
     "end_time": "2024-03-01T11:35:04.585302244Z",
     "start_time": "2024-03-01T11:34:56.797192683Z"
    }
   },
   "outputs": [],
   "source": [
    "img_gauss_2 = cv2.GaussianBlur(img, (5, 5), 2)\n",
    "img_gauss_1 = cv2.GaussianBlur(img, (5, 5), 1)\n",
    "\n",
    "image = img_gauss_2 - img_gauss_1\n",
    "cv2.imshow(\"DoG\", image)\n",
    "cv2.waitKey(0)\n",
    "cv2.destroyAllWindows()"
   ]
  },
  {
   "cell_type": "markdown",
   "metadata": {},
   "source": [
    "## 3. Canny Filter\n",
    "\n",
    "Detect edges using the [Canny Filter](https://docs.opencv.org/master/dd/d1a/group__imgproc__feature.html#ga04723e007ed888ddf11d9ba04e2232de)"
   ]
  },
  {
   "cell_type": "code",
   "execution_count": 8,
   "metadata": {
    "ExecuteTime": {
     "end_time": "2024-03-01T11:35:16.465615533Z",
     "start_time": "2024-03-01T11:35:08.662689096Z"
    }
   },
   "outputs": [],
   "source": [
    "# Apply a Canny Filter\n",
    "img_canny = cv2.Canny(img, 100, 200)\n",
    "\n",
    "cv2.imshow(\"Image\", img_canny)\n",
    "cv2.waitKey(0)\n",
    "cv2.destroyAllWindows()"
   ]
  },
  {
   "cell_type": "markdown",
   "metadata": {},
   "source": [
    "Exercise 3.1: Implement a track bar to alter the low and high threshold values of the Canny filter"
   ]
  },
  {
   "cell_type": "code",
   "execution_count": 9,
   "metadata": {
    "ExecuteTime": {
     "end_time": "2024-03-01T11:42:47.377516451Z",
     "start_time": "2024-03-01T11:42:18.259382255Z"
    }
   },
   "outputs": [],
   "source": [
    "def on_trackbar_low(val):\n",
    "    cv2.imshow(\"Image\", cv2.Canny(img, val, high_thr))\n",
    "\n",
    "\n",
    "def on_trackbar_high(val):\n",
    "    cv2.imshow(\"Image\", cv2.Canny(img, low_thr, val))\n",
    "\n",
    "\n",
    "low_thr = 100\n",
    "high_thr = 200\n",
    "img_canny = cv2.Canny(img, low_thr, high_thr)\n",
    "cv2.imshow(\"Image\", img_canny)\n",
    "\n",
    "trackbar_name_low = 'Low Threshold x %d' % low_thr\n",
    "trackbar_name_high = 'High Threshold x %d' % high_thr\n",
    "cv2.createTrackbar(trackbar_name_low, \"Image\", 0, 255, on_trackbar_low)\n",
    "cv2.createTrackbar(trackbar_name_high, \"Image\", 0, 255, on_trackbar_high)\n",
    "\n",
    "cv2.waitKey(0)\n",
    "cv2.destroyAllWindows()"
   ]
  },
  {
   "cell_type": "markdown",
   "metadata": {},
   "source": [
    "Exercise 3.2: Compare the results of applying the following two filters to the same image:\n",
    " - Sobel filter, with threshold t, after smoothing the image with a Gaussian blur filter with size s;\n",
    " - Canny filter, with \"low threshold\" = \"high threshold\" = t and \"aperture\" = s, using the same t and s values. Try also with a \"low threshold\" different from the \"high threshold\"."
   ]
  },
  {
   "cell_type": "code",
   "execution_count": 10,
   "metadata": {
    "ExecuteTime": {
     "end_time": "2024-03-01T11:50:20.992549510Z",
     "start_time": "2024-03-01T11:47:52.272378715Z"
    }
   },
   "outputs": [],
   "source": [
    "img = cv2.imread(os.path.join(dataDir, 'corridor_01.jpg'))\n",
    "t = 150\n",
    "s = (5, 5)\n",
    "blured = cv2.GaussianBlur(img, s, 1)\n",
    "sobel_x_y = cv2.Sobel(blured, cv2.CV_64F, 1, 1, ksize=5)\n",
    "\n",
    "img_canny = cv2.Canny(img, t, t, apertureSize=5)\n",
    "\n",
    "cv2.imshow(\"Sobel X+Y\", sobel_x_y)\n",
    "cv2.imshow(\"Canny\", img_canny)\n",
    "cv2.waitKey(0)\n",
    "cv2.destroyAllWindows()"
   ]
  },
  {
   "cell_type": "markdown",
   "metadata": {},
   "source": [
    "## Extra: Hough Line Transform"
   ]
  },
  {
   "cell_type": "markdown",
   "metadata": {},
   "source": [
    "Example of [Standard Hough Lines Transform](https://docs.opencv.org/3.4/dd/d1a/group__imgproc__feature.html#ga46b4e588934f6c8dfd509cc6e0e4545a)"
   ]
  },
  {
   "cell_type": "code",
   "execution_count": 31,
   "metadata": {},
   "outputs": [],
   "source": [
    "# Opening an image\n",
    "img2 = cv2.imread(os.path.join(dataDir, 'chessboard_02.jpg'))\n",
    "\n",
    "# Convert to grayscale\n",
    "img2 = cv2.cvtColor(img2, cv2.COLOR_BGR2GRAY)\n",
    "\n",
    "# Display image\n",
    "cv2.imshow(\"Image\", img2)\n",
    "cv2.waitKey(0)\n",
    "cv2.destroyAllWindows()"
   ]
  },
  {
   "cell_type": "markdown",
   "metadata": {},
   "source": [
    "Step 1: Detect the edges of the input image using a Canny Filter"
   ]
  },
  {
   "cell_type": "code",
   "execution_count": 95,
   "metadata": {},
   "outputs": [],
   "source": [
    "# Apply Canny filter\n",
    "img2_canny = cv2.Canny(img2, 50, 200)\n",
    "\n",
    "# Create BGR copy of image\n",
    "img2_copy = cv2.cvtColor(img2_canny, cv2.COLOR_GRAY2BGR)\n",
    "\n",
    "# Display image\n",
    "cv2.imshow(\"Canny\", img2_canny)\n",
    "cv2.waitKey(0)\n",
    "cv2.destroyAllWindows()"
   ]
  },
  {
   "cell_type": "markdown",
   "metadata": {},
   "source": [
    "Step 2: Apply Hough Transform"
   ]
  },
  {
   "cell_type": "code",
   "execution_count": 96,
   "metadata": {},
   "outputs": [],
   "source": [
    "num_votes = 60\n",
    "\n",
    "lines = cv2.HoughLines(img2_canny, 1, np.pi / 180, num_votes, None, 0, 0)"
   ]
  },
  {
   "cell_type": "markdown",
   "metadata": {},
   "source": [
    "Step 3: Draw the lines"
   ]
  },
  {
   "cell_type": "code",
   "execution_count": 97,
   "metadata": {},
   "outputs": [],
   "source": [
    "if lines is not None:\n",
    "    for i in range(0, len(lines)):\n",
    "        rho = lines[i][0][0]\n",
    "        theta = lines[i][0][1]\n",
    "        a = math.cos(theta)\n",
    "        b = math.sin(theta)\n",
    "        x0 = a * rho\n",
    "        y0 = b * rho\n",
    "        pt1 = (int(x0 + 1000 * (-b)), int(y0 + 1000 * (a)))\n",
    "        pt2 = (int(x0 - 1000 * (-b)), int(y0 - 1000 * (a)))\n",
    "        # Draw the line\n",
    "        cv2.line(img2_copy, pt1, pt2, (255, 0, 0), 3)\n",
    "\n",
    "cv2.imshow(\"Canny\", img2_canny)\n",
    "cv2.imshow(\"Image\", img2_copy)\n",
    "cv2.waitKey(0)\n",
    "cv2.destroyAllWindows()"
   ]
  }
 ],
 "metadata": {
  "kernelspec": {
   "display_name": "Python 3",
   "language": "python",
   "name": "python3"
  },
  "language_info": {
   "codemirror_mode": {
    "name": "ipython",
    "version": 3
   },
   "file_extension": ".py",
   "mimetype": "text/x-python",
   "name": "python",
   "nbconvert_exporter": "python",
   "pygments_lexer": "ipython3",
   "version": "3.12.2"
  },
  "orig_nbformat": 2
 },
 "nbformat": 4,
 "nbformat_minor": 2
}
