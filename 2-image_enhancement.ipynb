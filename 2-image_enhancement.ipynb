{
 "cells": [
  {
   "cell_type": "markdown",
   "metadata": {},
   "source": [
    "# Lab 2: Image Enhancement\n"
   ]
  },
  {
   "cell_type": "code",
   "execution_count": 2,
   "metadata": {},
   "outputs": [],
   "source": [
    "import cv2\n",
    "import os, numpy as np\n",
    "from matplotlib import pyplot as plt\n",
    "\n",
    "# Path to directory with images\n",
    "dataDir = \"./Images_03a\""
   ]
  },
  {
   "cell_type": "code",
   "execution_count": null,
   "metadata": {},
   "outputs": [],
   "source": [
    "# Open noisy image\n",
    "img = cv2.imread(os.path.join(dataDir, \"coins_03_noisy.jpg\"))\n",
    "\n",
    "# Show image\n",
    "cv2.imshow(\"image\", img)\n",
    "cv2.waitKey(0)\n",
    "cv2.destroyWindow(\"image\")"
   ]
  },
  {
   "cell_type": "markdown",
   "metadata": {},
   "source": [
    "### 1. Filtering and Smoothing\n"
   ]
  },
  {
   "cell_type": "markdown",
   "metadata": {},
   "source": [
    "[Check tutorial here!](https://docs.opencv.org/4.x/dc/dd3/tutorial_gausian_median_blur_bilateral_filter.html)\n"
   ]
  },
  {
   "cell_type": "code",
   "execution_count": null,
   "metadata": {},
   "outputs": [],
   "source": [
    "# Apply mean filter to the image\n",
    "img_mean_filter = cv2.blur(img, (4, 4))\n",
    "\n",
    "# Show image\n",
    "cv2.imshow(\"image\", img_mean_filter)\n",
    "cv2.waitKey(0)\n",
    "cv2.destroyWindow(\"image\")"
   ]
  },
  {
   "cell_type": "code",
   "execution_count": null,
   "metadata": {},
   "outputs": [],
   "source": [
    "# Apply a Gaussian filter to the image\n",
    "img_gaussian_filter = cv2.GaussianBlur(img, (5, 5), 0)\n",
    "\n",
    "# Show image\n",
    "cv2.imshow(\"image\", img_gaussian_filter)\n",
    "cv2.waitKey(0)\n",
    "cv2.destroyWindow(\"image\")"
   ]
  },
  {
   "cell_type": "markdown",
   "metadata": {},
   "source": [
    "Exercise 1.1: Apply median and bilateral filters to the image\n"
   ]
  },
  {
   "cell_type": "code",
   "execution_count": null,
   "metadata": {},
   "outputs": [],
   "source": [
    "img_median_filter = cv2.medianBlur(img, 5)\n",
    "\n",
    "cv2.imshow(\"median filter\", img_median_filter)\n",
    "\n",
    "img_bilateral_filter = cv2.bilateralFilter(img, 15, 75, 75)\n",
    "\n",
    "cv2.imshow(\"bilateral filter\", img_bilateral_filter)\n",
    "\n",
    "cv2.waitKey(0)\n",
    "cv2.destroyAllWindows()"
   ]
  },
  {
   "cell_type": "markdown",
   "metadata": {},
   "source": [
    "Exercise 1.2: Add salt and pepper noise to a grayscale image and check the result of previous filters\n"
   ]
  },
  {
   "cell_type": "code",
   "execution_count": null,
   "metadata": {},
   "outputs": [],
   "source": [
    "img = cv2.imread(os.path.join(dataDir, \"coins_02.jpg\"))\n",
    "\n",
    "img = cv2.cvtColor(img, cv2.COLOR_BGR2GRAY)\n",
    "\n",
    "h, w = img.shape\n",
    "number_pixels = h * w\n",
    "\n",
    "num_alter_pixels = int(number_pixels * 0.05)\n",
    "\n",
    "pixels = np.random.randint(number_pixels, size=num_alter_pixels)\n",
    "\n",
    "color = np.random.randint(2, size=num_alter_pixels) * 255\n",
    "\n",
    "x = pixels % w\n",
    "y = pixels % h\n",
    "\n",
    "for i in range(num_alter_pixels):\n",
    "    img[y[i]][x[i]] = color[i]\n",
    "\n",
    "cv2.imshow(\"S&P\", img)\n",
    "cv2.waitKey(0)\n",
    "cv2.destroyAllWindows()"
   ]
  },
  {
   "cell_type": "markdown",
   "metadata": {},
   "source": [
    "Exercise 1.3: Reproduce gaussian blur with custom convolution (using [ndimage.convolve()](https://docs.scipy.org/doc/scipy/reference/generated/scipy.ndimage.convolve.html))\n"
   ]
  },
  {
   "cell_type": "code",
   "execution_count": 14,
   "metadata": {},
   "outputs": [],
   "source": [
    "from scipy import ndimage\n",
    "\n",
    "img = cv2.imread(os.path.join(dataDir, \"coins_02.jpg\"))\n",
    "\n",
    "img = cv2.cvtColor(img, cv2.COLOR_BGR2GRAY)\n",
    "\n",
    "img = img / 255\n",
    "\n",
    "gaussian_kernel = np.array([[1, 2, 1], [2, 4, 2], [1, 2, 1]])\n",
    "\n",
    "# Normalize kernel\n",
    "gaussian_kernel = gaussian_kernel / np.sum(gaussian_kernel)\n",
    "\n",
    "convolution_result = ndimage.convolve(img, gaussian_kernel)\n",
    "\n",
    "gaussian_blur = cv2.GaussianBlur(img, (3, 3), 0)\n",
    "\n",
    "cv2.imshow(\"image\", img)\n",
    "cv2.imshow(\"gaussian blur\", gaussian_blur)\n",
    "cv2.imshow(\"convolution\", convolution_result)\n",
    "cv2.waitKey(0)\n",
    "cv2.destroyAllWindows()"
   ]
  },
  {
   "cell_type": "markdown",
   "metadata": {},
   "source": [
    "Exercise 1.4: Define custom convolution (using [ndimage.convolve()](https://docs.scipy.org/doc/scipy/reference/generated/scipy.ndimage.convolve.html))\n"
   ]
  },
  {
   "cell_type": "code",
   "execution_count": 4,
   "metadata": {},
   "outputs": [],
   "source": [
    "from scipy import ndimage\n",
    "\n",
    "img = cv2.imread(os.path.join(dataDir, \"rice.jpg\"))\n",
    "\n",
    "img = cv2.cvtColor(img, cv2.COLOR_BGR2GRAY)\n",
    "\n",
    "img = img / 255\n",
    "\n",
    "gaussian_kernel = np.array([[0, -1, 0], [-1, 4, -1], [0, -1, 0]])\n",
    "\n",
    "# Normalize kernel\n",
    "# gaussian_kernel = gaussian_kernel / np.sum(gaussian_kernel)\n",
    "\n",
    "convolution_result = ndimage.convolve(img, gaussian_kernel)\n",
    "\n",
    "\n",
    "cv2.imshow(\"image\", img)\n",
    "cv2.imshow(\"convolution\", convolution_result)\n",
    "cv2.waitKey(0)\n",
    "cv2.destroyAllWindows()"
   ]
  },
  {
   "cell_type": "markdown",
   "metadata": {},
   "source": [
    "Exercise 1.5: Add salt and pepper noise to a colored image and apply the previous filters\n"
   ]
  },
  {
   "cell_type": "code",
   "execution_count": 18,
   "metadata": {},
   "outputs": [],
   "source": [
    "img = cv2.imread(os.path.join(dataDir, \"coins_02.jpg\"))\n",
    "\n",
    "h, w, _ = img.shape\n",
    "number_pixels = h * w\n",
    "\n",
    "num_alter_pixels = int(number_pixels * 0.05)\n",
    "\n",
    "pixels = np.random.randint(number_pixels, size=num_alter_pixels)\n",
    "\n",
    "color = np.random.randint(3, size=num_alter_pixels)\n",
    "\n",
    "x = pixels % w\n",
    "y = pixels % h\n",
    "\n",
    "for i in range(num_alter_pixels):\n",
    "    img[y[i]][x[i]] = [0, 0, 0]\n",
    "    img[y[i]][x[i]][color[i]] = 255\n",
    "\n",
    "cv2.imshow(\"S&P\", img)\n",
    "\n",
    "img_median_filter = cv2.medianBlur(img, 5)\n",
    "cv2.imshow(\"median filter\", img_median_filter)\n",
    "\n",
    "img_gaussian_filter = cv2.GaussianBlur(img, (5, 5), 0)\n",
    "cv2.imshow(\"image\", img_gaussian_filter)\n",
    "\n",
    "cv2.waitKey(0)\n",
    "cv2.destroyAllWindows()"
   ]
  },
  {
   "cell_type": "markdown",
   "metadata": {},
   "source": [
    "Exercise 1.6: Apply custom filter to colored image with noise\n"
   ]
  },
  {
   "cell_type": "code",
   "execution_count": null,
   "metadata": {},
   "outputs": [],
   "source": [
    "# TODO"
   ]
  },
  {
   "cell_type": "markdown",
   "metadata": {},
   "source": [
    "### 2. Histogram Equalization\n"
   ]
  },
  {
   "cell_type": "code",
   "execution_count": 5,
   "metadata": {},
   "outputs": [],
   "source": [
    "# Load low contrast image\n",
    "img = cv2.imread(\n",
    "    os.path.join(dataDir, \"face_lowContrast_01.jpg\"), 0\n",
    ")  # Change this, according to your image's path\n",
    "\n",
    "cv2.imshow(\"image\", img)\n",
    "cv2.waitKey(0)\n",
    "cv2.destroyAllWindows()"
   ]
  },
  {
   "cell_type": "markdown",
   "metadata": {},
   "source": [
    "[Histograms Equalization](https://docs.opencv.org/master/d6/dc7/group__imgproc__hist.html#ga7e54091f0c937d49bf84152a16f76d6e)\n"
   ]
  },
  {
   "cell_type": "code",
   "execution_count": null,
   "metadata": {},
   "outputs": [],
   "source": [
    "# Increasing contrast with Histograms Equalization\n",
    "img_with_he = cv2.equalizeHist(img)\n",
    "\n",
    "cv2.imshow(\"histogram_equalization\", img_with_he)\n",
    "cv2.waitKey(0)\n",
    "cv2.destroyAllWindows()"
   ]
  },
  {
   "cell_type": "markdown",
   "metadata": {},
   "source": [
    "[Contrast Limited Adaptive Histogram Equalization](https://docs.opencv.org/master/d6/dc7/group__imgproc__hist.html#gad689d2607b7b3889453804f414ab1018)\n"
   ]
  },
  {
   "cell_type": "code",
   "execution_count": null,
   "metadata": {},
   "outputs": [],
   "source": [
    "# Increasing contrast with CLAHE\n",
    "clahe = cv2.createCLAHE(clipLimit=2.0, tileGridSize=(8, 8))\n",
    "img_with_CLAHE = clahe.apply(img)\n",
    "\n",
    "cv2.imshow(\"clahe\", img_with_CLAHE)\n",
    "cv2.waitKey(0)\n",
    "cv2.destroyAllWindows()"
   ]
  },
  {
   "cell_type": "markdown",
   "metadata": {},
   "source": [
    "Exercise 2.1: Apply Histogram Equalization to a colored image\n"
   ]
  },
  {
   "cell_type": "code",
   "execution_count": 25,
   "metadata": {},
   "outputs": [],
   "source": [
    "img = cv2.imread(os.path.join(os.path.join(dataDir, \"lowContrast_05.jpg\")))\n",
    "\n",
    "# convert image from RGB to HSV\n",
    "img_hsv = cv2.cvtColor(img, cv2.COLOR_BGR2HSV)\n",
    "\n",
    "# Histogram equalisation on the V-channel\n",
    "img_hsv[:, :, 2] = cv2.equalizeHist(img_hsv[:, :, 2])\n",
    "\n",
    "# convert image back from HSV to RGB\n",
    "final_img = cv2.cvtColor(img_hsv, cv2.COLOR_HSV2BGR)\n",
    "\n",
    "cv2.imshow(\"Original Image\", img)\n",
    "cv2.imshow(\"Improved Image\", final_img)\n",
    "cv2.waitKey(0)\n",
    "cv2.destroyAllWindows()"
   ]
  },
  {
   "cell_type": "markdown",
   "metadata": {},
   "source": [
    "Exercise 2.2: Apply CLAHE to a colored image\n"
   ]
  },
  {
   "cell_type": "code",
   "execution_count": 26,
   "metadata": {},
   "outputs": [],
   "source": [
    "img = cv2.imread(os.path.join(os.path.join(dataDir, \"lowContrast_05.jpg\")))\n",
    "\n",
    "# convert image from RGB to HSV\n",
    "img_hsv = cv2.cvtColor(img, cv2.COLOR_BGR2HSV)\n",
    "\n",
    "clahe = cv2.createCLAHE(clipLimit=2.0, tileGridSize=(8, 8))\n",
    "img_hsv[:, :, 2] = clahe.apply(img_hsv[:, :, 2])\n",
    "\n",
    "# convert image back from HSV to RGB\n",
    "final_img = cv2.cvtColor(img_hsv, cv2.COLOR_HSV2BGR)\n",
    "\n",
    "cv2.imshow(\"Original Image\", img)\n",
    "cv2.imshow(\"Improved Image\", final_img)\n",
    "cv2.waitKey(0)\n",
    "cv2.destroyAllWindows()"
   ]
  }
 ],
 "metadata": {
  "kernelspec": {
   "display_name": "Python 3",
   "language": "python",
   "name": "python3"
  },
  "language_info": {
   "codemirror_mode": {
    "name": "ipython",
    "version": 3
   },
   "file_extension": ".py",
   "mimetype": "text/x-python",
   "name": "python",
   "nbconvert_exporter": "python",
   "pygments_lexer": "ipython3",
   "version": "3.12.1"
  },
  "orig_nbformat": 2
 },
 "nbformat": 4,
 "nbformat_minor": 2
}
