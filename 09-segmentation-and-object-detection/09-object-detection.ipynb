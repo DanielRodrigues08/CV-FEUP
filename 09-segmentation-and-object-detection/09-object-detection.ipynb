{
 "cells": [
  {
   "cell_type": "markdown",
   "metadata": {},
   "source": [
    "## Lab 9 Part 2: Object Detection with YOLOv8\n",
    "\n",
    "You do not need GPU to run this notebook, since we will use an existing model and not train it.\n",
    "\n",
    "Before you start, load the ```images.zip``` file into Google Colab (by uploading it to the ```files``` section)."
   ]
  },
  {
   "cell_type": "code",
   "execution_count": 1,
   "metadata": {
    "colab": {
     "base_uri": "https://localhost:8080/"
    },
    "id": "Wg-IY59Wo8Ap",
    "outputId": "7ec09994-7541-4071-9696-2c71ff83f80a",
    "ExecuteTime": {
     "end_time": "2024-04-19T10:26:48.679879889Z",
     "start_time": "2024-04-19T10:26:48.583229290Z"
    }
   },
   "outputs": [
    {
     "name": "stdout",
     "output_type": "stream",
     "text": [
      "unzip:  cannot find or open /content/images.zip, /content/images.zip.zip or /content/images.zip.ZIP.\r\n"
     ]
    }
   ],
   "source": [
    "!unzip \"/content/images.zip\" -d \"/content/data\""
   ]
  },
  {
   "cell_type": "markdown",
   "metadata": {},
   "source": [
    "There are many different versions of YOLO available. We will be using YOLOv8.\n",
    "\n",
    "YOLOv8 was originally proposed and implemented by Ultralytics. To work with the model, we will use the ```ultralytics``` package.\n",
    "\n",
    "Note that this package contains implementations of various models. [Click here](https://docs.ultralytics.com/models/) to find out which models are available on ```ultralytics```."
   ]
  },
  {
   "cell_type": "code",
   "execution_count": null,
   "metadata": {
    "colab": {
     "base_uri": "https://localhost:8080/"
    },
    "id": "0fc9hCgDoTOn",
    "outputId": "a5e6eae0-a345-4106-d88a-d96ef4c0c265"
   },
   "outputs": [],
   "source": [
    "%pip install ultralytics\n",
    "import ultralytics\n",
    "ultralytics.checks()"
   ]
  },
  {
   "cell_type": "code",
   "execution_count": null,
   "metadata": {},
   "outputs": [],
   "source": [
    "import os\n",
    "import matplotlib.pyplot as plt"
   ]
  },
  {
   "cell_type": "markdown",
   "metadata": {},
   "source": [
    "### Load model\n",
    "\n",
    "YOLOv8 comes in different versions. [Click here](https://docs.ultralytics.com/models/yolov8/) to see available versions and their computational efficiency and predictive performance on the datasets they were trained."
   ]
  },
  {
   "cell_type": "code",
   "execution_count": null,
   "metadata": {
    "colab": {
     "base_uri": "https://localhost:8080/"
    },
    "id": "y21-Abbxoa5-",
    "outputId": "f23c5ce7-d9e3-45b4-c8b4-60c933a29a88"
   },
   "outputs": [],
   "source": [
    "from ultralytics import YOLO\n",
    "\n",
    "# Load a pretrained model\n",
    "model = YOLO('yolov8s.pt')"
   ]
  },
  {
   "cell_type": "markdown",
   "metadata": {},
   "source": [
    "Create folder to save the results"
   ]
  },
  {
   "cell_type": "code",
   "execution_count": null,
   "metadata": {},
   "outputs": [],
   "source": [
    "folder_name = \"results\"\n",
    "os.mkdir(folder_name)"
   ]
  },
  {
   "cell_type": "markdown",
   "metadata": {},
   "source": [
    "### Inference\n",
    "\n",
    "To apply the model to predict bounding boxes on images, we can use the ```predict()``` function. This function can receive many different inputs, including an image loaded with cv2, the path to an image and even a path to the folder that loads the images. [Click here](https://docs.ultralytics.com/modes/predict/) for more information about the inference process using YOLOv8.\n",
    "\n",
    "We will provide the path to the folder as input to obtain predictions for all the images."
   ]
  },
  {
   "cell_type": "code",
   "execution_count": null,
   "metadata": {
    "colab": {
     "base_uri": "https://localhost:8080/"
    },
    "id": "VRLgpbsBpg9y",
    "outputId": "c7ee7643-6b69-4b05-c1fe-7e1ae893a9c7"
   },
   "outputs": [],
   "source": [
    "input_image_folder = '/content/data/'\n",
    "\n",
    "# Predict bounding boxes for the images\n",
    "results = model.predict(input_image_folder)\n",
    "\n",
    "for result in results:\n",
    "    # Get bounding boxes object for bounding box outputs\n",
    "    boxes = result.boxes\n",
    "    # Save image with bounding boxes and predictions to folder\n",
    "    image_name = result.path.split(os.sep)[-1]\n",
    "    result.save(filename=os.path.join(folder_name, image_name))\n",
    "\n",
    "# Uncomment to visualize the attributes that a bounding box contains\n",
    "# print(boxes[0])"
   ]
  },
  {
   "cell_type": "markdown",
   "metadata": {},
   "source": [
    "Visualize results"
   ]
  },
  {
   "cell_type": "code",
   "execution_count": null,
   "metadata": {
    "colab": {
     "base_uri": "https://localhost:8080/",
     "height": 380
    },
    "id": "le9Xpgik0yu4",
    "outputId": "2fe72e3e-243b-4707-9fb7-1c9f9794f5bc"
   },
   "outputs": [],
   "source": [
    "img = plt.imread(os.path.join(folder_name, \"image2.jpg\"))\n",
    "plt.axis('off')\n",
    "plt.imshow(img)"
   ]
  },
  {
   "cell_type": "markdown",
   "metadata": {},
   "source": [
    "### Altering Parameters: Confidence Threshold and Non Maximum Suppression\n",
    "\n",
    "**Exercise 1**: Increase/decrease the **confidence threshold** and compare the results.\n",
    "\n",
    "When you increase/decrease the threshold, how does the number of detected objects change? And why?"
   ]
  },
  {
   "cell_type": "code",
   "execution_count": null,
   "metadata": {},
   "outputs": [],
   "source": [
    "folder_name = \"results_cnf\"\n",
    "os.mkdir(folder_name)"
   ]
  },
  {
   "cell_type": "code",
   "execution_count": null,
   "metadata": {
    "colab": {
     "base_uri": "https://localhost:8080/",
     "height": 502
    },
    "id": "oDptRV8V4QoX",
    "outputId": "faad79a9-b0f1-42aa-e5ed-30127bcbd925"
   },
   "outputs": [],
   "source": [
    "# Predict bounding boxes for the images\n",
    "results = # TODO\n",
    "\n",
    "for result in results:\n",
    "    # Get bounding boxes object for bounding box outputs\n",
    "    boxes = result.boxes\n",
    "    # Save image with bounding boxes and predictions to folder\n",
    "    image_name = result.path.split(os.sep)[-1]\n",
    "    result.save(filename=os.path.join(folder_name, image_name))"
   ]
  },
  {
   "cell_type": "code",
   "execution_count": null,
   "metadata": {},
   "outputs": [],
   "source": [
    "img = plt.imread(os.path.join(folder_name, \"image2.jpg\"))\n",
    "plt.axis('off')\n",
    "plt.imshow(img)"
   ]
  },
  {
   "cell_type": "markdown",
   "metadata": {},
   "source": [
    "**Exercise 2**: Increase/decrease the Non Maximum Suppression (NMS) threshold and compare the results.\n",
    "\n",
    "When you increase/decrease the threshold, how does the number of detected objects change? And why?"
   ]
  },
  {
   "cell_type": "code",
   "execution_count": null,
   "metadata": {},
   "outputs": [],
   "source": [
    "folder_name = \"results_iou\"\n",
    "os.mkdir(folder_name)"
   ]
  },
  {
   "cell_type": "code",
   "execution_count": null,
   "metadata": {
    "colab": {
     "base_uri": "https://localhost:8080/",
     "height": 502
    },
    "id": "ECncR8J35i4d",
    "outputId": "73b84b49-d9a8-4e38-eea6-0335d1953726"
   },
   "outputs": [],
   "source": [
    "# Predict bounding boxes for the images\n",
    "results = # TODO\n",
    "\n",
    "for result in results:\n",
    "    # Get bounding boxes object for bounding box outputs\n",
    "    boxes = result.boxes\n",
    "    # Save image with bounding boxes and predictions to folder\n",
    "    image_name = result.path.split(os.sep)[-1]\n",
    "    result.save(filename=os.path.join(folder_name, image_name))"
   ]
  },
  {
   "cell_type": "code",
   "execution_count": null,
   "metadata": {},
   "outputs": [],
   "source": [
    "img = plt.imread(os.path.join(folder_name, \"image2.jpg\"))\n",
    "plt.axis('off')\n",
    "plt.imshow(img)"
   ]
  },
  {
   "cell_type": "markdown",
   "metadata": {},
   "source": [
    "For more information on how to train a YOLOv8 model, [click here](https://docs.ultralytics.com/modes/train/)."
   ]
  }
 ],
 "metadata": {
  "colab": {
   "provenance": []
  },
  "kernelspec": {
   "name": "python3",
   "language": "python",
   "display_name": "Python 3 (ipykernel)"
  },
  "language_info": {
   "name": "python"
  }
 },
 "nbformat": 4,
 "nbformat_minor": 0
}
