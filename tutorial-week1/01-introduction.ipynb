{
 "cells": [
  {
   "cell_type": "markdown",
   "metadata": {},
   "source": [
    "# Lab 1: Introduction to OpenCV"
   ]
  },
  {
   "cell_type": "markdown",
   "metadata": {},
   "source": [
    "The goal of this first lab is to present a small introduction to image processing using OpenCV. In each section, you can find:\n",
    "* a small example - analyse the code and try it\n",
    "* some exercises"
   ]
  },
  {
   "cell_type": "code",
   "execution_count": null,
   "metadata": {},
   "outputs": [],
   "source": [
    "# Requirements for this tutorial\n",
    "! pip install opencv-python\n",
    "! pip install numpy"
   ]
  },
  {
   "cell_type": "code",
   "execution_count": 2,
   "metadata": {
    "ExecuteTime": {
     "end_time": "2024-02-16T21:34:54.609770157Z",
     "start_time": "2024-02-16T21:34:54.577097473Z"
    }
   },
   "outputs": [
    {
     "ename": "SyntaxError",
     "evalue": "invalid syntax (614504469.py, line 2)",
     "output_type": "error",
     "traceback": [
      "\u001B[0;36m  Cell \u001B[0;32mIn[2], line 2\u001B[0;36m\u001B[0m\n\u001B[0;31m    pip install nbconvert\u001B[0m\n\u001B[0m        ^\u001B[0m\n\u001B[0;31mSyntaxError\u001B[0m\u001B[0;31m:\u001B[0m invalid syntax\n"
     ]
    }
   ],
   "source": [
    "# If you prefer, you can convert this notebook to a Python script by uncommenting the following command\n",
    "! pip install nbconvert\n",
    "! jupyter nbconvert --to script 01-introduction.ipynb"
   ]
  },
  {
   "cell_type": "code",
   "execution_count": 2,
   "metadata": {
    "ExecuteTime": {
     "end_time": "2024-02-17T10:41:15.469290768Z",
     "start_time": "2024-02-17T10:41:15.292089241Z"
    }
   },
   "outputs": [],
   "source": [
    "import cv2\n",
    "import numpy as np\n",
    "import os\n",
    "\n",
    "dataDir = './data'"
   ]
  },
  {
   "cell_type": "markdown",
   "metadata": {},
   "source": [
    "### 1. Images – read, write and display; ROIs"
   ]
  },
  {
   "cell_type": "code",
   "execution_count": 2,
   "metadata": {
    "ExecuteTime": {
     "end_time": "2024-02-16T11:19:44.908200276Z",
     "start_time": "2024-02-16T11:19:41.576921316Z"
    }
   },
   "outputs": [
    {
     "name": "stderr",
     "output_type": "stream",
     "text": [
      "Warning: Ignoring XDG_SESSION_TYPE=wayland on Gnome. Use QT_QPA_PLATFORM=wayland to run on Wayland anyway.\n"
     ]
    }
   ],
   "source": [
    "# Opening an image\n",
    "img = cv2.imread(os.path.join(dataDir, 'ml.jpg'))\n",
    "\n",
    "# Showing the image\n",
    "cv2.imshow(\"ml.jpg\", img)\n",
    "\n",
    "# Waiting for user to press a key to close the image\n",
    "cv2.waitKey(0)\n",
    "\n",
    "# Close the window after user pressed a key\n",
    "cv2.destroyWindow(\"ml.jpg\")"
   ]
  },
  {
   "cell_type": "code",
   "execution_count": 3,
   "metadata": {
    "ExecuteTime": {
     "end_time": "2024-02-16T11:19:53.398939410Z",
     "start_time": "2024-02-16T11:19:53.394173532Z"
    }
   },
   "outputs": [
    {
     "name": "stdout",
     "output_type": "stream",
     "text": [
      "height: 380\n",
      "width: 308\n",
      "channels: 3\n"
     ]
    }
   ],
   "source": [
    "# Check image size\n",
    "h, w, c = img.shape\n",
    "print(f'height: {h}')\n",
    "print(f'width: {w}')\n",
    "print(f'channels: {c}')"
   ]
  },
  {
   "cell_type": "code",
   "execution_count": 4,
   "metadata": {
    "ExecuteTime": {
     "end_time": "2024-02-16T11:20:13.251213590Z",
     "start_time": "2024-02-16T11:20:13.201382165Z"
    }
   },
   "outputs": [
    {
     "data": {
      "text/plain": "True"
     },
     "execution_count": 4,
     "metadata": {},
     "output_type": "execute_result"
    }
   ],
   "source": [
    "# Saving image in bmp format\n",
    "cv2.imwrite('ml_new.bmp', img)"
   ]
  },
  {
   "cell_type": "markdown",
   "metadata": {},
   "source": [
    "Exercise 1.1 - Read any other color image from a file, show the mouse cursor over the image, and the coordinates and RGB components of the pixel under the cursor. When the user clicks on the mouse, let him modify the RGB components of the selected pixel."
   ]
  },
  {
   "cell_type": "code",
   "execution_count": 7,
   "metadata": {
    "ExecuteTime": {
     "end_time": "2024-02-16T11:27:59.876915115Z",
     "start_time": "2024-02-16T11:27:53.734995197Z"
    }
   },
   "outputs": [
    {
     "name": "stdout",
     "output_type": "stream",
     "text": [
      "Coordinates: (74, 376)\n",
      "BGR: ([206 201 198])\n",
      "Coordinates: (78, 372)\n",
      "BGR: ([211 204 201])\n",
      "Coordinates: (81, 367)\n",
      "BGR: ([211 207 202])\n",
      "Coordinates: (85, 362)\n",
      "BGR: ([211 207 202])\n",
      "Coordinates: (88, 357)\n",
      "BGR: ([215 211 206])\n",
      "Coordinates: (95, 348)\n",
      "BGR: ([208 205 200])\n",
      "Coordinates: (98, 344)\n",
      "BGR: ([212 210 202])\n",
      "Coordinates: (100, 340)\n",
      "BGR: ([202 204 198])\n",
      "Coordinates: (103, 336)\n",
      "BGR: ([197 201 195])\n",
      "Coordinates: (106, 333)\n",
      "BGR: ([196 195 191])\n",
      "Coordinates: (110, 329)\n",
      "BGR: ([136 156 157])\n",
      "Coordinates: (113, 325)\n",
      "BGR: ([ 72 134 152])\n",
      "Coordinates: (117, 320)\n",
      "BGR: ([ 78 211 239])\n",
      "Coordinates: (126, 311)\n",
      "BGR: ([ 59 154 170])\n",
      "Coordinates: (137, 297)\n",
      "BGR: ([184 180 179])\n",
      "Coordinates: (140, 294)\n",
      "BGR: ([187 182 181])\n",
      "Coordinates: (142, 291)\n",
      "BGR: ([193 188 185])\n",
      "Coordinates: (145, 288)\n",
      "BGR: ([189 196 191])\n",
      "Coordinates: (147, 285)\n",
      "BGR: ([199 199 193])\n",
      "Coordinates: (148, 283)\n",
      "BGR: ([201 201 195])\n",
      "Coordinates: (149, 282)\n",
      "BGR: ([200 200 194])\n",
      "Coordinates: (151, 281)\n",
      "BGR: ([199 199 193])\n",
      "Coordinates: (152, 279)\n",
      "BGR: ([201 200 196])\n",
      "Coordinates: (154, 277)\n",
      "BGR: ([198 196 195])\n",
      "Coordinates: (157, 275)\n",
      "BGR: ([199 197 196])\n",
      "Coordinates: (160, 274)\n",
      "BGR: ([180 177 173])\n",
      "Coordinates: (162, 272)\n",
      "BGR: ([185 184 180])\n",
      "Coordinates: (166, 271)\n",
      "BGR: ([117 117 117])\n",
      "Coordinates: (168, 270)\n",
      "BGR: ([157 158 156])\n",
      "Coordinates: (171, 269)\n",
      "BGR: ([175 176 174])\n",
      "Coordinates: (174, 269)\n",
      "BGR: ([189 190 188])\n",
      "Coordinates: (177, 269)\n",
      "BGR: ([192 190 189])\n",
      "Coordinates: (179, 269)\n",
      "BGR: ([194 192 191])\n",
      "Coordinates: (182, 270)\n",
      "BGR: ([191 189 188])\n",
      "Coordinates: (184, 270)\n",
      "BGR: ([193 191 190])\n",
      "Coordinates: (186, 271)\n",
      "BGR: ([192 190 189])\n",
      "Coordinates: (191, 274)\n",
      "BGR: ([185 183 182])\n",
      "Coordinates: (194, 276)\n",
      "BGR: ([174 181 178])\n",
      "Coordinates: (196, 277)\n",
      "BGR: ([125 136 126])\n",
      "Coordinates: (199, 279)\n",
      "BGR: ([121 161 136])\n",
      "Coordinates: (202, 281)\n",
      "BGR: ([105 164 133])\n",
      "Coordinates: (206, 282)\n",
      "BGR: ([172 205 184])\n",
      "Coordinates: (208, 284)\n",
      "BGR: ([249 255 251])\n",
      "Coordinates: (211, 286)\n",
      "BGR: ([255 255 255])\n",
      "Coordinates: (214, 288)\n",
      "BGR: ([255 255 255])\n",
      "Coordinates: (216, 290)\n",
      "BGR: ([255 255 255])\n",
      "Coordinates: (219, 291)\n",
      "BGR: ([255 255 255])\n",
      "Coordinates: (220, 293)\n",
      "BGR: ([255 255 255])\n",
      "Coordinates: (222, 294)\n",
      "BGR: ([255 255 255])\n",
      "Coordinates: (223, 296)\n",
      "BGR: ([255 255 255])\n",
      "Coordinates: (224, 297)\n",
      "BGR: ([255 255 255])\n",
      "Coordinates: (225, 298)\n",
      "BGR: ([255 255 255])\n",
      "Coordinates: (227, 301)\n",
      "BGR: ([255 255 255])\n",
      "Coordinates: (228, 302)\n",
      "BGR: ([255 255 255])\n",
      "Coordinates: (229, 304)\n",
      "BGR: ([255 255 255])\n",
      "Coordinates: (229, 305)\n",
      "BGR: ([255 255 255])\n",
      "Coordinates: (230, 306)\n",
      "BGR: ([255 255 255])\n",
      "Coordinates: (231, 307)\n",
      "BGR: ([255 255 255])\n",
      "Coordinates: (233, 310)\n",
      "BGR: ([255 255 255])\n",
      "Coordinates: (234, 311)\n",
      "BGR: ([255 255 255])\n",
      "Coordinates: (234, 312)\n",
      "BGR: ([255 255 255])\n",
      "Coordinates: (234, 313)\n",
      "BGR: ([255 255 255])\n",
      "Coordinates: (235, 314)\n",
      "BGR: ([255 255 255])\n",
      "Coordinates: (235, 315)\n",
      "BGR: ([255 255 255])\n",
      "Coordinates: (236, 316)\n",
      "BGR: ([255 255 255])\n",
      "Coordinates: (236, 318)\n",
      "BGR: ([255 255 255])\n",
      "Coordinates: (237, 319)\n",
      "BGR: ([255 255 255])\n",
      "Coordinates: (238, 321)\n",
      "BGR: ([255 255 255])\n",
      "Coordinates: (239, 323)\n",
      "BGR: ([255 255 255])\n",
      "Coordinates: (240, 325)\n",
      "BGR: ([255 255 255])\n",
      "Coordinates: (241, 327)\n",
      "BGR: ([255 255 255])\n",
      "Coordinates: (242, 328)\n",
      "BGR: ([255 255 255])\n",
      "Coordinates: (243, 330)\n",
      "BGR: ([255 255 255])\n",
      "Coordinates: (244, 331)\n",
      "BGR: ([255 255 255])\n",
      "Coordinates: (244, 332)\n",
      "BGR: ([255 255 255])\n",
      "Coordinates: (245, 333)\n",
      "BGR: ([255 255 255])\n",
      "Coordinates: (246, 334)\n",
      "BGR: ([255 255 255])\n",
      "Coordinates: (246, 335)\n",
      "BGR: ([255 255 255])\n",
      "Coordinates: (246, 335)\n",
      "BGR: ([255 255 255])\n",
      "Coordinates: (247, 335)\n",
      "BGR: ([255 255 255])\n",
      "Coordinates: (247, 336)\n",
      "BGR: ([255 255 255])\n",
      "Coordinates: (244, 340)\n",
      "BGR: ([255 255 255])\n",
      "Coordinates: (241, 344)\n",
      "BGR: ([255 255 255])\n",
      "Coordinates: (239, 348)\n",
      "BGR: ([255 255 255])\n",
      "Coordinates: (236, 351)\n",
      "BGR: ([255 255 255])\n",
      "Coordinates: (234, 354)\n",
      "BGR: ([255 255 255])\n",
      "Coordinates: (232, 356)\n",
      "BGR: ([255 255 255])\n",
      "Coordinates: (229, 357)\n",
      "BGR: ([255 255 255])\n",
      "Coordinates: (228, 359)\n",
      "BGR: ([255 255 255])\n",
      "Coordinates: (226, 360)\n",
      "BGR: ([255 255 255])\n",
      "Coordinates: (225, 361)\n",
      "BGR: ([255 255 255])\n",
      "Coordinates: (223, 361)\n",
      "BGR: ([255 255 255])\n",
      "Coordinates: (222, 362)\n",
      "BGR: ([255 255 255])\n",
      "Coordinates: (220, 363)\n",
      "BGR: ([255 255 255])\n",
      "Coordinates: (219, 363)\n",
      "BGR: ([255 255 255])\n",
      "Coordinates: (218, 363)\n",
      "BGR: ([255 255 255])\n",
      "Coordinates: (217, 364)\n",
      "BGR: ([255 255 255])\n",
      "Coordinates: (216, 364)\n",
      "BGR: ([255 255 255])\n",
      "Coordinates: (215, 364)\n",
      "BGR: ([255 255 255])\n",
      "Coordinates: (213, 364)\n",
      "BGR: ([255 255 255])\n",
      "Coordinates: (212, 364)\n",
      "BGR: ([255 255 255])\n",
      "Coordinates: (211, 364)\n",
      "BGR: ([255 255 255])\n",
      "Coordinates: (210, 364)\n",
      "BGR: ([255 255 255])\n",
      "Coordinates: (209, 364)\n",
      "BGR: ([255 255 255])\n",
      "Coordinates: (206, 364)\n",
      "BGR: ([255 255 255])\n",
      "Coordinates: (206, 364)\n",
      "BGR: ([255 255 255])\n",
      "Coordinates: (205, 363)\n",
      "BGR: ([255 255 255])\n",
      "Coordinates: (205, 363)\n",
      "BGR: ([255 255 255])\n",
      "Coordinates: (204, 363)\n",
      "BGR: ([255 255 255])\n",
      "Coordinates: (204, 362)\n",
      "BGR: ([255 255 255])\n",
      "Coordinates: (204, 362)\n",
      "BGR: ([255 255 255])\n",
      "Coordinates: (203, 362)\n",
      "BGR: ([255 255 255])\n",
      "Coordinates: (202, 362)\n",
      "BGR: ([255 255 255])\n",
      "Coordinates: (202, 361)\n",
      "BGR: ([255 255 255])\n",
      "Coordinates: (202, 361)\n",
      "BGR: ([255 255 255])\n",
      "Coordinates: (205, 360)\n",
      "BGR: ([255 255 255])\n",
      "Coordinates: (209, 360)\n",
      "BGR: ([255 255 255])\n",
      "Coordinates: (213, 359)\n",
      "BGR: ([255 255 255])\n",
      "Coordinates: (217, 358)\n",
      "BGR: ([255 255 255])\n",
      "Coordinates: (220, 357)\n",
      "BGR: ([255 255 255])\n",
      "Coordinates: (223, 356)\n",
      "BGR: ([255 255 255])\n",
      "Coordinates: (226, 356)\n",
      "BGR: ([255 255 255])\n",
      "Coordinates: (228, 355)\n",
      "BGR: ([255 255 255])\n",
      "Coordinates: (231, 354)\n",
      "BGR: ([255 255 255])\n",
      "Coordinates: (233, 354)\n",
      "BGR: ([255 255 255])\n",
      "Coordinates: (235, 354)\n",
      "BGR: ([255 255 255])\n",
      "Coordinates: (237, 353)\n",
      "BGR: ([255 255 255])\n",
      "Coordinates: (239, 353)\n",
      "BGR: ([255 255 255])\n",
      "Coordinates: (241, 353)\n",
      "BGR: ([255 255 255])\n",
      "Coordinates: (243, 352)\n",
      "BGR: ([255 255 255])\n",
      "Coordinates: (245, 352)\n",
      "BGR: ([255 255 255])\n",
      "Coordinates: (247, 352)\n",
      "BGR: ([255 255 255])\n",
      "Coordinates: (250, 352)\n",
      "BGR: ([255 255 255])\n",
      "Coordinates: (254, 352)\n",
      "BGR: ([255 255 255])\n",
      "Coordinates: (256, 352)\n",
      "BGR: ([255 255 255])\n",
      "Coordinates: (257, 352)\n",
      "BGR: ([255 255 255])\n",
      "Coordinates: (259, 352)\n",
      "BGR: ([255 255 255])\n",
      "Coordinates: (260, 352)\n",
      "BGR: ([255 255 255])\n",
      "Coordinates: (261, 352)\n",
      "BGR: ([255 255 255])\n",
      "Coordinates: (264, 352)\n",
      "BGR: ([255 255 255])\n",
      "Coordinates: (266, 352)\n",
      "BGR: ([255 255 255])\n",
      "Coordinates: (267, 352)\n",
      "BGR: ([255 255 255])\n",
      "Coordinates: (268, 352)\n",
      "BGR: ([255 255 255])\n",
      "Coordinates: (269, 352)\n",
      "BGR: ([255 255 255])\n",
      "Coordinates: (270, 352)\n",
      "BGR: ([255 255 255])\n",
      "Coordinates: (271, 352)\n",
      "BGR: ([255 255 255])\n",
      "Coordinates: (272, 352)\n",
      "BGR: ([255 255 255])\n",
      "Coordinates: (273, 352)\n",
      "BGR: ([255 255 255])\n",
      "Coordinates: (274, 352)\n",
      "BGR: ([255 255 255])\n",
      "Coordinates: (274, 352)\n",
      "BGR: ([255 255 255])\n",
      "Coordinates: (275, 352)\n",
      "BGR: ([255 255 255])\n",
      "Coordinates: (277, 348)\n",
      "BGR: ([255 255 255])\n",
      "Coordinates: (278, 345)\n",
      "BGR: ([255 255 255])\n",
      "Coordinates: (279, 342)\n",
      "BGR: ([255 255 255])\n",
      "Coordinates: (279, 339)\n",
      "BGR: ([255 255 255])\n",
      "Coordinates: (280, 337)\n",
      "BGR: ([255 255 255])\n",
      "Coordinates: (280, 335)\n",
      "BGR: ([255 255 255])\n",
      "Coordinates: (281, 333)\n",
      "BGR: ([255 255 255])\n",
      "Coordinates: (281, 332)\n",
      "BGR: ([255 255 255])\n",
      "Coordinates: (281, 331)\n",
      "BGR: ([255 255 255])\n",
      "Coordinates: (281, 329)\n",
      "BGR: ([255 255 255])\n",
      "Coordinates: (281, 328)\n",
      "BGR: ([255 255 255])\n",
      "Coordinates: (281, 328)\n",
      "BGR: ([255 255 255])\n",
      "Coordinates: (281, 327)\n",
      "BGR: ([255 255 255])\n",
      "Coordinates: (281, 326)\n",
      "BGR: ([255 255 255])\n",
      "Coordinates: (281, 325)\n",
      "BGR: ([255 255 255])\n",
      "Coordinates: (281, 325)\n",
      "BGR: ([255 255 255])\n",
      "Coordinates: (281, 324)\n",
      "BGR: ([255 255 255])\n",
      "Coordinates: (280, 323)\n",
      "BGR: ([255 255 255])\n",
      "Coordinates: (280, 323)\n",
      "BGR: ([255 255 255])\n",
      "Coordinates: (280, 322)\n",
      "BGR: ([255 255 255])\n",
      "Coordinates: (279, 321)\n",
      "BGR: ([255 255 255])\n",
      "Coordinates: (279, 320)\n",
      "BGR: ([255 255 255])\n",
      "Coordinates: (279, 319)\n",
      "BGR: ([255 255 255])\n",
      "Coordinates: (279, 318)\n",
      "BGR: ([255 255 255])\n",
      "Coordinates: (279, 316)\n",
      "BGR: ([255 255 255])\n",
      "Coordinates: (279, 315)\n",
      "BGR: ([255 255 255])\n",
      "Coordinates: (279, 314)\n",
      "BGR: ([255 255 255])\n",
      "Coordinates: (279, 313)\n",
      "BGR: ([255 255 255])\n",
      "Coordinates: (279, 312)\n",
      "BGR: ([255 255 255])\n",
      "Coordinates: (279, 311)\n",
      "BGR: ([255 255 255])\n",
      "Coordinates: (279, 310)\n",
      "BGR: ([255 255 255])\n",
      "Coordinates: (279, 310)\n",
      "BGR: ([255 255 255])\n",
      "Coordinates: (279, 309)\n",
      "BGR: ([255 255 255])\n",
      "Coordinates: (279, 309)\n",
      "BGR: ([255 255 255])\n",
      "Coordinates: (279, 308)\n",
      "BGR: ([255 255 255])\n",
      "Coordinates: (279, 308)\n",
      "BGR: ([255 255 255])\n",
      "Coordinates: (279, 308)\n",
      "BGR: ([255 255 255])\n",
      "Coordinates: (279, 308)\n",
      "BGR: ([255 255 255])\n",
      "Coordinates: (277, 312)\n",
      "BGR: ([255 255 255])\n",
      "Coordinates: (275, 318)\n",
      "BGR: ([255 255 255])\n",
      "Coordinates: (273, 325)\n",
      "BGR: ([255 255 255])\n",
      "Coordinates: (272, 332)\n",
      "BGR: ([255 255 255])\n",
      "Coordinates: (271, 339)\n",
      "BGR: ([255 255 255])\n",
      "Coordinates: (271, 345)\n",
      "BGR: ([255 255 255])\n",
      "Coordinates: (271, 351)\n",
      "BGR: ([255 255 255])\n",
      "Coordinates: (273, 363)\n",
      "BGR: ([255 255 255])\n",
      "Coordinates: (275, 372)\n",
      "BGR: ([255 255 255])\n",
      "Coordinates: (277, 376)\n",
      "BGR: ([255 255 255])\n",
      "Coordinates: (278, 378)\n",
      "BGR: ([255 255 255])\n"
     ]
    }
   ],
   "source": [
    "img = cv2.imread(os.path.join(dataDir, 'ml.jpg'))\n",
    "\n",
    "def paint_coordinates(event, x, y, flag, params):\n",
    "    if event == cv2.EVENT_MOUSEMOVE:\n",
    "        print(f'Coordinates: ({x}, {y})')\n",
    "        print(f'BGR: ({img[y][x]})')\n",
    "    if event == cv2.EVENT_LBUTTONDOWN:\n",
    "        img[y][x] = [255, 0, 0]\n",
    "\n",
    "cv2.namedWindow('image_window')\n",
    "cv2.setMouseCallback('image_window', paint_coordinates)\n",
    "\n",
    "while True:\n",
    "    cv2.imshow('image_window', img)\n",
    "    if cv2.waitKey(1) == ord('q'):\n",
    "        break\n",
    "\n",
    "cv2.destroyWindow('image_window')"
   ]
  },
  {
   "cell_type": "markdown",
   "metadata": {},
   "source": [
    "Exercise 1.2 - Allow the user to select a region of interest (ROI) in the image, by clicking on two points that identify two opposite corners of the selected ROI, and save the ROI into another file."
   ]
  },
  {
   "cell_type": "code",
   "execution_count": 2,
   "metadata": {
    "ExecuteTime": {
     "end_time": "2024-02-16T11:52:52.845066630Z",
     "start_time": "2024-02-16T11:52:15.093816286Z"
    }
   },
   "outputs": [
    {
     "name": "stderr",
     "output_type": "stream",
     "text": [
      "Warning: Ignoring XDG_SESSION_TYPE=wayland on Gnome. Use QT_QPA_PLATFORM=wayland to run on Wayland anyway.\n"
     ]
    },
    {
     "data": {
      "text/plain": "True"
     },
     "execution_count": 2,
     "metadata": {},
     "output_type": "execute_result"
    }
   ],
   "source": [
    "img = cv2.imread(os.path.join(dataDir, 'ml.jpg'))\n",
    "roi = cv2.selectROI(img)\n",
    "cv2.destroyAllWindows()\n",
    "\n",
    "x = int(roi[0])\n",
    "y = int(roi[1])\n",
    "width = int(roi[2])\n",
    "height = int(roi[3])\n",
    "\n",
    "img_roi = img[y:y+height, x:x+width]\n",
    "cv2.imwrite('roi_image.jpg', img_roi)\n",
    "# coordinates_first = None\n",
    "# \n",
    "# def select_coordinates(event, x, y, flag, params):\n",
    "#     global coordinates_first\n",
    "#     if event == cv2.EVENT_LBUTTONDOWN:\n",
    "#         if coordinates_first is None:\n",
    "#             coordinates_first = [x, y]\n",
    "#         else:\n",
    "#             coordinates_second = [x, y]\n",
    "#             print(coordinates_first)\n",
    "#             print(coordinates_second)\n",
    "#             new_img = img[coordinates_first[1]:coordinates_second[1]]\n",
    "#             print(len(new_img[0]))\n",
    "#             for idx in range(len(new_img[0])):\n",
    "#                 new_img[idx] = new_img[idx][coordinates_first[0]:coordinates_second[0]]\n",
    "#             cv2.imwrite('teste.bmp', new_img)\n",
    "#         print(f'Coordinates: ({x}, {y})')\n",
    "#         print(f'BGR: ({img[y][x]})')\n",
    "#         \n",
    "# \n",
    "# cv2.namedWindow('image_window')\n",
    "# cv2.setMouseCallback('image_window', select_coordinates)\n",
    "# \n",
    "# while True:\n",
    "#     cv2.imshow('image_window', img)\n",
    "#     if cv2.waitKey(1) == ord('q'):\n",
    "#         break\n",
    "# \n",
    "# cv2.destroyWindow('image_window')"
   ]
  },
  {
   "cell_type": "markdown",
   "metadata": {},
   "source": [
    "### 2. Images – representation, grayscale and color, color spaces"
   ]
  },
  {
   "cell_type": "code",
   "execution_count": 3,
   "metadata": {
    "ExecuteTime": {
     "end_time": "2024-02-16T11:54:00.079366604Z",
     "start_time": "2024-02-16T11:53:46.288114948Z"
    }
   },
   "outputs": [],
   "source": [
    "# Create a white image\n",
    "m = np.ones((100,200,1), np.uint8)\n",
    "\n",
    "# Change the intensity to 100\n",
    "m = m * 100\n",
    "\n",
    "# Display the image\n",
    "cv2.imshow('Grayscale image', m)\n",
    "cv2.waitKey(0)\n",
    "cv2.destroyWindow('Grayscale image')"
   ]
  },
  {
   "cell_type": "code",
   "execution_count": 4,
   "metadata": {
    "ExecuteTime": {
     "end_time": "2024-02-16T11:54:19.280752777Z",
     "start_time": "2024-02-16T11:54:06.308524946Z"
    }
   },
   "outputs": [],
   "source": [
    "# Draw a line with thickness of 5 px\n",
    "cv2.line(m, (0,0), (200,100), 255, 5)\n",
    "cv2.line(m, (200, 0), (0, 100), 255, 5)\n",
    "cv2.imshow('Grayscale image with diagonals', m)\n",
    "cv2.waitKey(0)\n",
    "cv2.destroyWindow('Grayscale image with diagonals')"
   ]
  },
  {
   "cell_type": "markdown",
   "metadata": {},
   "source": [
    "Exercise 2.1 - Create a color image with 100(lines)x200(columns) pixels with yellow color; draw the two diagonals of the image, one in red color, the other in blue color. Display the image."
   ]
  },
  {
   "cell_type": "code",
   "execution_count": 5,
   "metadata": {
    "ExecuteTime": {
     "end_time": "2024-02-16T12:05:21.699901950Z",
     "start_time": "2024-02-16T12:05:17.755731632Z"
    }
   },
   "outputs": [],
   "source": [
    "# Create a white image\n",
    "image = np.zeros((100, 200, 3), dtype=np.uint8)\n",
    "image[:,:,1:] = 255\n",
    "\n",
    "cv2.line(image, (0,0), (200, 100), [0, 0, 255], 5)\n",
    "cv2.line(image, (200,0), (0, 100), [255, 0, 0], 5)\n",
    "\n",
    "cv2.imshow('Yellow', image)\n",
    "cv2.waitKey(0)\n",
    "cv2.destroyAllWindows()"
   ]
  },
  {
   "cell_type": "markdown",
   "metadata": {},
   "source": [
    "Exercise 2.2 - Read any color image, in RGB format, display it in one window, convert it to grayscale, display the grayscale image in another window and save the grayscale image to a different file"
   ]
  },
  {
   "cell_type": "code",
   "execution_count": 6,
   "metadata": {
    "ExecuteTime": {
     "end_time": "2024-02-16T12:08:07.927332179Z",
     "start_time": "2024-02-16T12:08:00.529946085Z"
    }
   },
   "outputs": [],
   "source": [
    "img = cv2.imread(os.path.join(dataDir, 'ml.jpg'))\n",
    "img_gr = cv2.cvtColor(img, cv2.COLOR_BGR2GRAY)\n",
    "\n",
    "cv2.imshow('normal', img)\n",
    "cv2.imshow('grayscale', img_gr)\n",
    "cv2.waitKey(0)\n",
    "cv2.destroyAllWindows()"
   ]
  },
  {
   "cell_type": "markdown",
   "metadata": {},
   "source": [
    "Exercise 2.3 - Split the 3 RGB channels and show each channel in a separate window. Add a constant value to one of the channels, merge the channels into a new color image and show the resulting image."
   ]
  },
  {
   "cell_type": "code",
   "execution_count": 10,
   "metadata": {
    "ExecuteTime": {
     "end_time": "2024-02-17T11:00:34.707391800Z",
     "start_time": "2024-02-17T11:00:32.023733166Z"
    }
   },
   "outputs": [],
   "source": [
    "import cv2\n",
    "import os\n",
    "img = cv2.imread(os.path.join(\"data\", 'ml.jpg'))\n",
    "\n",
    "b, g, r = cv2.split(img)\n",
    "\n",
    "# Show each channel in a separate window\n",
    "cv2.imshow('Blue Channel', b)\n",
    "cv2.imshow('Green Channel', g)\n",
    "cv2.imshow('Red Channel', r)\n",
    "\n",
    "# Add a constant value to one of the channels (for example, add 50 to the blue channel)\n",
    "b = cv2.add(b, 50)  # Adding 50 to the blue channel\n",
    "\n",
    "# Merge the channels back into a new color image\n",
    "merged_image = cv2.merge((b, g, r))\n",
    "\n",
    "# Show the resulting image\n",
    "cv2.imshow('Resulting Image', merged_image)\n",
    "cv2.waitKey(0)\n",
    "cv2.destroyAllWindows()"
   ]
  },
  {
   "cell_type": "markdown",
   "metadata": {},
   "source": [
    "Exercise 2.4 - Convert the image to HSV, split the 3 HSV channels and show each channel in a separate window. Add a constant value to saturation channel, merge the channels into a new color image and show the resulting image."
   ]
  },
  {
   "cell_type": "code",
   "execution_count": 9,
   "metadata": {
    "ExecuteTime": {
     "end_time": "2024-02-17T11:00:21.780182349Z",
     "start_time": "2024-02-17T11:00:05.373020381Z"
    }
   },
   "outputs": [],
   "source": [
    "import cv2\n",
    "import os\n",
    "img = cv2.imread(os.path.join(\"data\", 'ml.jpg'))\n",
    "\n",
    "hsv_img = cv2.cvtColor(img, cv2.COLOR_BGR2HSV)\n",
    "\n",
    "h, s, v = cv2.split(hsv_img)\n",
    "\n",
    "# Show each channel in a separate window\n",
    "cv2.imshow('Hue', h)\n",
    "cv2.imshow('Saturation', s)\n",
    "cv2.imshow('Value', v)\n",
    "\n",
    "# Add a constant value to one of the channels (for example, add 50 to the blue channel)\n",
    "s = cv2.add(s, 70)  # Adding 50 to the blue channel\n",
    "\n",
    "# Merge the channels back into a new color image\n",
    "merged_image = cv2.merge((h, s, v))\n",
    "\n",
    "# Show the resulting image\n",
    "cv2.imshow('Resulting Image', cv2.cvtColor(merged_image, cv2.COLOR_HSV2BGR))\n",
    "cv2.waitKey(0)\n",
    "cv2.destroyAllWindows()"
   ]
  },
  {
   "cell_type": "markdown",
   "metadata": {},
   "source": [
    "### 3. Video – acquisition and simple processing"
   ]
  },
  {
   "cell_type": "code",
   "execution_count": 2,
   "metadata": {
    "ExecuteTime": {
     "end_time": "2024-02-17T10:31:34.308361555Z",
     "start_time": "2024-02-17T10:31:27.643583290Z"
    }
   },
   "outputs": [
    {
     "name": "stderr",
     "output_type": "stream",
     "text": [
      "Warning: Ignoring XDG_SESSION_TYPE=wayland on Gnome. Use QT_QPA_PLATFORM=wayland to run on Wayland anyway.\n"
     ]
    }
   ],
   "source": [
    "# Define a VideoCapture Object\n",
    "cap = cv2.VideoCapture(0)\n",
    "if not cap.isOpened():\n",
    "    print(\"Cannot open camera\")\n",
    "    exit()\n",
    "\n",
    "frame_nr = 0\n",
    "while True:\n",
    "    # Capture frame-by-frame\n",
    "    ret, frame = cap.read()\n",
    "    \n",
    "    # If frame is read correctly ret is True\n",
    "    if not ret:\n",
    "        print(\"Can't receive frame (stream end?). Exiting ...\")\n",
    "        break\n",
    "\n",
    "    # Display the resulting frame\n",
    "    cv2.imshow('webcam', frame)\n",
    "\n",
    "    # Wait for user to press s to save frame\n",
    "    if cv2.waitKey(1) == ord('s'):\n",
    "        frame_name = 'frame' + str(frame_nr) + '.png'\n",
    "        cv2.imwrite(frame_name, frame)\n",
    "        cv2.imshow(\"Saved frame: \" + frame_name, frame)\n",
    "        cv2.waitKey(0)\n",
    "        cv2.destroyWindow(\"Saved frame: \" + frame_name)\n",
    "\n",
    "    # Wait for user to press q to quit\n",
    "    if cv2.waitKey(1) == ord('q'):\n",
    "        break\n",
    "\n",
    "    frame_nr += 1\n",
    "\n",
    "# When everything is done, release the capture\n",
    "cap.release()\n",
    "cv2.destroyAllWindows()"
   ]
  },
  {
   "cell_type": "markdown",
   "metadata": {},
   "source": [
    "Exercise 3.1 - Using the previous example as the baseline, implement a script that acquires the video from the webcam, converts it to grayscale, and shows the frames in binary format (i.e. the intensity of each pixel is 0 or 255); use a threshold value of 128."
   ]
  },
  {
   "cell_type": "code",
   "execution_count": null,
   "metadata": {
    "is_executing": true,
    "ExecuteTime": {
     "start_time": "2024-02-17T10:30:41.337778306Z"
    }
   },
   "outputs": [],
   "source": [
    "# Define a VideoCapture Object\n",
    "cap = cv2.VideoCapture(0)\n",
    "if not cap.isOpened():\n",
    "    print(\"Cannot open camera\")\n",
    "    exit()\n",
    "\n",
    "frame_nr = 0\n",
    "while True:\n",
    "    # Capture frame-by-frame\n",
    "    ret, frame = cap.read()\n",
    "    \n",
    "    # If frame is read correctly ret is True\n",
    "    if not ret:\n",
    "        print(\"Can't receive frame (stream end?). Exiting ...\")\n",
    "        break\n",
    "\n",
    "    #grayscale_frame = cv2.cvtColor(frame, cv2.COLOR_BGR2GRAY)\n",
    "    #_, threshold = cv2.threshold(grayscale_frame, 128, 255, cv2.THRESH_BINARY)\n",
    "    # Display the resulting frame\n",
    "    cv2.imshow('webcam', frame)\n",
    "\n",
    "    # Wait for user to press s to save frame\n",
    "    if cv2.waitKey(1) == ord('s'):\n",
    "        frame_name = 'frame' + str(frame_nr) + '.png'\n",
    "        cv2.imwrite(frame_name, frame)\n",
    "        cv2.imshow(\"Saved frame: \" + frame_name, frame)\n",
    "        cv2.waitKey(0)\n",
    "        cv2.destroyWindow(\"Saved frame: \" + frame_name)\n",
    "\n",
    "    # Wait for user to press q to quit\n",
    "    if cv2.waitKey(1) == ord('q'):\n",
    "        break\n",
    "\n",
    "    frame_nr += 1\n",
    "\n",
    "# When everything is done, release the capture\n",
    "cap.release()\n",
    "cv2.destroyAllWindows()"
   ]
  },
  {
   "cell_type": "markdown",
   "metadata": {},
   "source": [
    "Exercise 3.2 - Implement a simple detection/tracking algorithm for colored objects, using the following steps:\n",
    "1) take each frame of the video;\n",
    "2) convert from BGR to HSV color-space;\n",
    "3) threshold the HSV image for a range of color values (creating a binary image);\n",
    "4) extract the objects of the selected range (with a bitwise AND operation, using as operands the original and the binary image)."
   ]
  },
  {
   "cell_type": "code",
   "execution_count": 3,
   "metadata": {
    "ExecuteTime": {
     "end_time": "2024-02-17T10:29:06.503188691Z",
     "start_time": "2024-02-17T10:28:42.054034097Z"
    }
   },
   "outputs": [],
   "source": [
    "# Define a VideoCapture Object\n",
    "cap = cv2.VideoCapture(0)\n",
    "if not cap.isOpened():\n",
    "    print(\"Cannot open camera\")\n",
    "    exit()\n",
    "\n",
    "frame_nr = 0\n",
    "while True:\n",
    "    # Capture frame-by-frame\n",
    "    ret, frame = cap.read()\n",
    "    \n",
    "    # If frame is read correctly ret is True\n",
    "    if not ret:\n",
    "        print(\"Can't receive frame (stream end?). Exiting ...\")\n",
    "        break\n",
    "    \n",
    "        # Convert BGR to HSV\n",
    "    #frame = cv2.imread(os.path.join(dataDir, 'ml.jpg'))\n",
    "    cv2.imshow('frame',frame)\n",
    "    hsv = cv2.cvtColor(frame, cv2.COLOR_BGR2HSV)\n",
    "    # define range of blue color in HSV\n",
    "    lower_blue = np.array([110,50,50])\n",
    "    upper_blue = np.array([130,255,255])\n",
    "    # Threshold the HSV image to get only blue colors\n",
    "    mask = cv2.inRange(hsv, lower_blue, upper_blue)\n",
    "    # Bitwise-AND mask and original image\n",
    "    res = cv2.bitwise_and(frame,frame, mask= mask)\n",
    "    cv2.imshow('frame',frame)\n",
    "    cv2.imshow('mask',mask)\n",
    "    cv2.imshow('res',res)\n",
    "\n",
    "    # Wait for user to press s to save frame\n",
    "    if cv2.waitKey(0) == ord('s'):\n",
    "        frame_name = 'frame' + str(frame_nr) + '.png'\n",
    "        cv2.imwrite(frame_name, frame)\n",
    "        cv2.imshow(\"Saved frame: \" + frame_name, frame)\n",
    "        cv2.waitKey(0)\n",
    "        cv2.destroyWindow(\"Saved frame: \" + frame_name)\n",
    "\n",
    "    # Wait for user to press q to quit\n",
    "    if cv2.waitKey(0) == ord('q'):\n",
    "        break\n",
    "\n",
    "    frame_nr += 1\n",
    "\n",
    "# When everything is done, release the capture\n",
    "cap.release()\n",
    "cv2.destroyAllWindows()"
   ]
  },
  {
   "cell_type": "code",
   "execution_count": null,
   "outputs": [],
   "source": [],
   "metadata": {
    "collapsed": false
   }
  }
 ],
 "metadata": {
  "kernelspec": {
   "display_name": "Python 3 (ipykernel)",
   "language": "python",
   "name": "python3"
  },
  "language_info": {
   "codemirror_mode": {
    "name": "ipython",
    "version": 3
   },
   "file_extension": ".py",
   "mimetype": "text/x-python",
   "name": "python",
   "nbconvert_exporter": "python",
   "pygments_lexer": "ipython3",
   "version": "3.12.2"
  }
 },
 "nbformat": 4,
 "nbformat_minor": 4
}
