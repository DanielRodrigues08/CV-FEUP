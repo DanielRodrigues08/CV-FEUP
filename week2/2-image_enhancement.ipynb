{
 "cells": [
  {
   "cell_type": "markdown",
   "metadata": {},
   "source": [
    "# Lab 2: Image Enhancement"
   ]
  },
  {
   "cell_type": "code",
   "execution_count": 2,
   "metadata": {
    "ExecuteTime": {
     "end_time": "2024-02-23T12:13:31.044967580Z",
     "start_time": "2024-02-23T12:13:30.062040902Z"
    }
   },
   "outputs": [],
   "source": [
    "import random\n",
    "\n",
    "import cv2\n",
    "import os, numpy as np\n",
    "from matplotlib import pyplot as plt\n",
    "\n",
    "# Path to directory with images\n",
    "dataDir = '../Images_03a'"
   ]
  },
  {
   "cell_type": "code",
   "execution_count": 3,
   "metadata": {
    "ExecuteTime": {
     "end_time": "2024-02-23T12:13:34.079465967Z",
     "start_time": "2024-02-23T12:13:32.085388488Z"
    }
   },
   "outputs": [
    {
     "name": "stderr",
     "output_type": "stream",
     "text": [
      "Warning: Ignoring XDG_SESSION_TYPE=wayland on Gnome. Use QT_QPA_PLATFORM=wayland to run on Wayland anyway.\n"
     ]
    }
   ],
   "source": [
    "# Open noisy image\n",
    "img = cv2.imread(os.path.join(dataDir, 'coins_03_noisy.jpg'))\n",
    "\n",
    "# Show image\n",
    "cv2.imshow('image', img)\n",
    "cv2.waitKey(0)\n",
    "cv2.destroyWindow('image')"
   ]
  },
  {
   "cell_type": "markdown",
   "metadata": {},
   "source": [
    "### 1. Filtering and Smoothing"
   ]
  },
  {
   "cell_type": "markdown",
   "metadata": {},
   "source": [
    "[Check tutorial here!](https://docs.opencv.org/4.x/dc/dd3/tutorial_gausian_median_blur_bilateral_filter.html)"
   ]
  },
  {
   "cell_type": "code",
   "execution_count": 5,
   "metadata": {
    "ExecuteTime": {
     "end_time": "2024-02-23T11:16:21.173726108Z",
     "start_time": "2024-02-23T11:16:17.418432611Z"
    }
   },
   "outputs": [],
   "source": [
    "# Apply mean filter to the image\n",
    "img_mean_filter = cv2.blur(img, (4,4))\n",
    "\n",
    "# Show image\n",
    "cv2.imshow('image', img_mean_filter)\n",
    "cv2.waitKey(0)\n",
    "cv2.destroyWindow('image')"
   ]
  },
  {
   "cell_type": "code",
   "execution_count": 6,
   "metadata": {
    "ExecuteTime": {
     "end_time": "2024-02-23T11:16:42.195310060Z",
     "start_time": "2024-02-23T11:16:36.681872736Z"
    }
   },
   "outputs": [],
   "source": [
    "# Apply a Gaussian filter to the image\n",
    "img_gaussian_filter = cv2.GaussianBlur(img, (5,5), 0)\n",
    "\n",
    "# Show image\n",
    "cv2.imshow('image', img_gaussian_filter)\n",
    "cv2.waitKey(0)\n",
    "cv2.destroyWindow('image')"
   ]
  },
  {
   "cell_type": "markdown",
   "metadata": {},
   "source": [
    "Exercise 1.1: Apply median and bilateral filters to the image"
   ]
  },
  {
   "cell_type": "code",
   "execution_count": 8,
   "metadata": {
    "ExecuteTime": {
     "end_time": "2024-02-23T11:20:27.596204398Z",
     "start_time": "2024-02-23T11:20:23.541974423Z"
    }
   },
   "outputs": [],
   "source": [
    "# Apply a bilateral filter to the image\n",
    "img_bilateral_filter = cv2.bilateralFilter(img, 15, 75, 75)\n",
    "\n",
    "# Show image\n",
    "cv2.imshow('image', img_bilateral_filter)\n",
    "cv2.waitKey(0)\n",
    "cv2.destroyWindow('image')"
   ]
  },
  {
   "cell_type": "markdown",
   "metadata": {},
   "source": [
    "Exercise 1.2: Add salt and pepper noise to a grayscale image and check the result of previous filters"
   ]
  },
  {
   "cell_type": "code",
   "execution_count": 18,
   "metadata": {
    "ExecuteTime": {
     "end_time": "2024-02-23T11:31:42.339894569Z",
     "start_time": "2024-02-23T11:31:37.895495153Z"
    }
   },
   "outputs": [],
   "source": [
    "import random\n",
    "img_salt_pepper = cv2.imread(os.path.join(dataDir, 'coins_02.jpg'))\n",
    "img_salt_pepper = cv2.cvtColor(img_salt_pepper, cv2.COLOR_BGR2GRAY)\n",
    "r,c = img_salt_pepper.shape\n",
    "for row in range(r):\n",
    "    for col in range(c):\n",
    "        if random.random() < 0.05:\n",
    "            if random.random() <= 0.5:\n",
    "                img_salt_pepper[row][col] = 0\n",
    "            else:\n",
    "                img_salt_pepper[row][col] = 255\n",
    "\n",
    "# Show image\n",
    "cv2.imshow('image', img_salt_pepper)\n",
    "cv2.waitKey(0)\n",
    "cv2.destroyWindow('image')"
   ]
  },
  {
   "cell_type": "markdown",
   "metadata": {},
   "source": [
    "Exercise 1.3: Reproduce gaussian blur with custom convolution (using [ndimage.convolve()](https://docs.scipy.org/doc/scipy/reference/generated/scipy.ndimage.convolve.html))"
   ]
  },
  {
   "cell_type": "code",
   "execution_count": 27,
   "metadata": {
    "ExecuteTime": {
     "end_time": "2024-02-23T11:48:17.548613104Z",
     "start_time": "2024-02-23T11:48:14.759768667Z"
    }
   },
   "outputs": [],
   "source": [
    "from scipy import ndimage\n",
    "\n",
    "gray = cv2.cvtColor(img, cv2.COLOR_BGR2GRAY)\n",
    "\n",
    "normalized = gray / 255\n",
    "gaussian_kernel = np.array([[1, 2, 1], [2, 4, 2], [1, 2, 1]])\n",
    "\n",
    "gaussian_kernel = gaussian_kernel / np.sum(gaussian_kernel)\n",
    "\n",
    "convolution_result = ndimage.convolve(gray, gaussian_kernel)\n",
    "\n",
    "cv2.imshow('image', convolution_result)\n",
    "cv2.waitKey(0)\n",
    "cv2.destroyWindow('image')"
   ]
  },
  {
   "cell_type": "markdown",
   "metadata": {},
   "source": [
    "Exercise 1.4: Define custom convolution (using [ndimage.convolve()](https://docs.scipy.org/doc/scipy/reference/generated/scipy.ndimage.convolve.html))"
   ]
  },
  {
   "cell_type": "code",
   "execution_count": 42,
   "metadata": {
    "ExecuteTime": {
     "end_time": "2024-02-23T12:08:00.254091750Z",
     "start_time": "2024-02-23T12:07:50.947245323Z"
    }
   },
   "outputs": [],
   "source": [
    "from scipy import ndimage\n",
    "img = cv2.imread(os.path.join(dataDir, 'coins_02.jpg'))\n",
    "gray = cv2.cvtColor(img, cv2.COLOR_BGR2GRAY)\n",
    "\n",
    "normalized = gray / 255\n",
    "gaussian_kernel = np.array([[1, 2, 1], [2, 4, 2], [1, 2, 1]])\n",
    "\n",
    "gaussian_kernel = gaussian_kernel / np.sum(gaussian_kernel)\n",
    "\n",
    "convolution_result = ndimage.convolve(gray, gaussian_kernel)\n",
    "\n",
    "cv2.imshow('image', img)\n",
    "cv2.imshow('res', convolution_result)\n",
    "cv2.waitKey(0)\n",
    "cv2.destroyWindow('image')"
   ]
  },
  {
   "cell_type": "markdown",
   "metadata": {},
   "source": [
    "Exercise 1.5: Add salt and pepper noise to a colored image and apply the previous filters "
   ]
  },
  {
   "cell_type": "code",
   "execution_count": 29,
   "metadata": {
    "ExecuteTime": {
     "end_time": "2024-02-23T11:49:19.585101910Z",
     "start_time": "2024-02-23T11:49:13.892242124Z"
    }
   },
   "outputs": [],
   "source": [
    "import random\n",
    "img_salt_pepper = cv2.imread(os.path.join(dataDir, 'coins_02.jpg'))\n",
    "r,c,ch = img_salt_pepper.shape\n",
    "for row in range(r):\n",
    "    for col in range(c):\n",
    "        if random.random() < 0.05:\n",
    "            if random.random() <= 0.5:\n",
    "                img_salt_pepper[row][col] = [0, 0, 0]\n",
    "            else:\n",
    "                img_salt_pepper[row][col] = [255, 255, 255]\n",
    "\n",
    "# Show image\n",
    "cv2.imshow('image', img_salt_pepper)\n",
    "cv2.waitKey(0)\n",
    "cv2.destroyWindow('image')"
   ]
  },
  {
   "cell_type": "markdown",
   "metadata": {},
   "source": [
    "Exercise 1.6: Apply custom filter to colored image with noise"
   ]
  },
  {
   "cell_type": "code",
   "execution_count": 41,
   "metadata": {
    "ExecuteTime": {
     "end_time": "2024-02-23T12:06:40.370337505Z",
     "start_time": "2024-02-23T12:06:32.812841638Z"
    }
   },
   "outputs": [],
   "source": [
    "from scipy import ndimage\n",
    "\n",
    "img = cv2.imread(os.path.join(dataDir, 'coins_02.jpg'))\n",
    "\n",
    "normalized = img / 255\n",
    "gaussian_kernel = np.array([[[1,1,1], [2,2,2], [1,1,1]], [[2,2,2], [4,4,4], [2,2,2]], [[1,1,1], [2,2,2], [1,1,1]]])\n",
    "\n",
    "gaussian_kernel = gaussian_kernel / np.sum(gaussian_kernel)\n",
    "\n",
    "convolution_result = ndimage.convolve(img, gaussian_kernel)\n",
    "\n",
    "cv2.imshow('image', convolution_result)\n",
    "cv2.waitKey(0)\n",
    "cv2.destroyWindow('image')"
   ]
  },
  {
   "cell_type": "markdown",
   "metadata": {},
   "source": [
    "### 2. Histogram Equalization"
   ]
  },
  {
   "cell_type": "code",
   "execution_count": 30,
   "metadata": {
    "ExecuteTime": {
     "end_time": "2024-02-23T11:51:01.026713245Z",
     "start_time": "2024-02-23T11:50:56.823029460Z"
    }
   },
   "outputs": [],
   "source": [
    "# Load low contrast image\n",
    "img = cv2.imread(os.path.join(dataDir, 'face_lowContrast_01.jpg'), 0) # Change this, according to your image's path\n",
    "\n",
    "cv2.imshow('image', img)\n",
    "cv2.waitKey(0)\n",
    "cv2.destroyAllWindows()"
   ]
  },
  {
   "cell_type": "markdown",
   "metadata": {},
   "source": [
    "[Histograms Equalization](https://docs.opencv.org/master/d6/dc7/group__imgproc__hist.html#ga7e54091f0c937d49bf84152a16f76d6e)"
   ]
  },
  {
   "cell_type": "code",
   "execution_count": 31,
   "metadata": {
    "ExecuteTime": {
     "end_time": "2024-02-23T11:51:22.133080119Z",
     "start_time": "2024-02-23T11:51:18.900933637Z"
    }
   },
   "outputs": [],
   "source": [
    "# Increasing contrast with Histograms Equalization\n",
    "img_with_he = cv2.equalizeHist(img)\n",
    "\n",
    "cv2.imshow('histogram_equalization', img_with_he)\n",
    "cv2.waitKey(0)\n",
    "cv2.destroyAllWindows()"
   ]
  },
  {
   "cell_type": "markdown",
   "metadata": {},
   "source": [
    "[Contrast Limited Adaptive Histogram Equalization](https://docs.opencv.org/master/d6/dc7/group__imgproc__hist.html#gad689d2607b7b3889453804f414ab1018)"
   ]
  },
  {
   "cell_type": "code",
   "execution_count": 32,
   "metadata": {
    "ExecuteTime": {
     "end_time": "2024-02-23T11:51:38.204582040Z",
     "start_time": "2024-02-23T11:51:34.091398442Z"
    }
   },
   "outputs": [],
   "source": [
    "# Increasing contrast with CLAHE\n",
    "clahe = cv2.createCLAHE(clipLimit=2.0, tileGridSize=(8,8))\n",
    "img_with_CLAHE = clahe.apply(img)\n",
    "\n",
    "cv2.imshow('clahe', img_with_CLAHE)\n",
    "cv2.waitKey(0)\n",
    "cv2.destroyAllWindows()"
   ]
  },
  {
   "cell_type": "markdown",
   "metadata": {},
   "source": [
    "Exercise 2.1: Apply Histogram Equalization to a colored image"
   ]
  },
  {
   "cell_type": "code",
   "execution_count": 6,
   "metadata": {
    "ExecuteTime": {
     "end_time": "2024-02-23T12:20:37.663449588Z",
     "start_time": "2024-02-23T12:19:11.192345820Z"
    }
   },
   "outputs": [],
   "source": [
    "# Increasing contrast with Histograms Equalization\n",
    "img = cv2.imread(os.path.join(dataDir, 'lowContrast_05.jpg'))\n",
    "b,g,r = cv2.split(img)\n",
    "\n",
    "img_with_he = cv2.merge((cv2.equalizeHist(b), cv2.equalizeHist(g), cv2.equalizeHist(r)))\n",
    "\n",
    "cv2.imshow('image', img)\n",
    "cv2.imshow('histogram_equalization', img_with_he)\n",
    "cv2.waitKey(0)\n",
    "cv2.destroyAllWindows()"
   ]
  },
  {
   "cell_type": "markdown",
   "metadata": {},
   "source": [
    "Exercise 2.2: Apply CLAHE to a colored image"
   ]
  },
  {
   "cell_type": "code",
   "execution_count": 7,
   "metadata": {
    "ExecuteTime": {
     "end_time": "2024-02-23T12:22:25.397042465Z",
     "start_time": "2024-02-23T12:21:54.365170712Z"
    }
   },
   "outputs": [],
   "source": [
    "# Increasing contrast with CLAHE\n",
    "img = cv2.imread(os.path.join(dataDir, 'lowContrast_05.jpg'))\n",
    "clahe = cv2.createCLAHE(clipLimit=2.0, tileGridSize=(8,8))\n",
    "\n",
    "b,g,r = cv2.split(img)\n",
    "img_with_CLAHE = cv2.merge((clahe.apply(b), clahe.apply(g), clahe.apply(r)))\n",
    "\n",
    "cv2.imshow('img', img)\n",
    "cv2.imshow('clahe', img_with_CLAHE)\n",
    "cv2.waitKey(0)\n",
    "cv2.destroyAllWindows()"
   ]
  },
  {
   "cell_type": "code",
   "execution_count": null,
   "outputs": [],
   "source": [],
   "metadata": {
    "collapsed": false
   }
  }
 ],
 "metadata": {
  "kernelspec": {
   "display_name": "Python 3",
   "language": "python",
   "name": "python3"
  },
  "language_info": {
   "codemirror_mode": {
    "name": "ipython",
    "version": 3
   },
   "file_extension": ".py",
   "mimetype": "text/x-python",
   "name": "python",
   "nbconvert_exporter": "python",
   "pygments_lexer": "ipython3",
   "version": "3.12.2"
  },
  "orig_nbformat": 2
 },
 "nbformat": 4,
 "nbformat_minor": 2
}
